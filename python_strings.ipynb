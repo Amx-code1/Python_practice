{
 "cells": [
  {
   "cell_type": "markdown",
   "id": "a8d3aa19-17c3-4f6a-bab5-9d589053e5a5",
   "metadata": {},
   "source": [
    "# String Concepts "
   ]
  },
  {
   "cell_type": "code",
   "execution_count": 2,
   "id": "ef8f1e56-ed23-4ba8-9bc3-cda646c5752e",
   "metadata": {},
   "outputs": [],
   "source": [
    "long_string = '''\n",
    "              WOW\n",
    "              O O\n",
    "              ___\n",
    "              '''"
   ]
  },
  {
   "cell_type": "code",
   "execution_count": 4,
   "id": "bf1d7575-fd6c-4554-b38c-40ad66bbdf7f",
   "metadata": {},
   "outputs": [
    {
     "name": "stdout",
     "output_type": "stream",
     "text": [
      "\n",
      "              WOW\n",
      "              O O\n",
      "              ___\n",
      "              \n"
     ]
    }
   ],
   "source": [
    "print(long_string)"
   ]
  },
  {
   "cell_type": "code",
   "execution_count": 1,
   "id": "89dfc767-5a3b-499a-b49e-b8fdd74e17b3",
   "metadata": {},
   "outputs": [
    {
     "name": "stdout",
     "output_type": "stream",
     "text": [
      "amanmishra\n"
     ]
    }
   ],
   "source": [
    "first_name = 'aman'\n",
    "last_name = 'mishra'\n",
    "full_name = first_name + last_name\n",
    "print(full_name)"
   ]
  },
  {
   "cell_type": "code",
   "execution_count": 3,
   "id": "07b93da1-a57e-413e-a125-0fe06d35ee7f",
   "metadata": {},
   "outputs": [
    {
     "name": "stdout",
     "output_type": "stream",
     "text": [
      "helloworld\n"
     ]
    }
   ],
   "source": [
    "print('hello'+'world')"
   ]
  },
  {
   "cell_type": "code",
   "execution_count": 5,
   "id": "f6d2b923-f4bb-4ff7-ab1a-8c2a355fc0fc",
   "metadata": {},
   "outputs": [
    {
     "ename": "TypeError",
     "evalue": "can only concatenate str (not \"int\") to str",
     "output_type": "error",
     "traceback": [
      "\u001b[1;31m---------------------------------------------------------------------------\u001b[0m",
      "\u001b[1;31mTypeError\u001b[0m                                 Traceback (most recent call last)",
      "Cell \u001b[1;32mIn[5], line 1\u001b[0m\n\u001b[1;32m----> 1\u001b[0m \u001b[38;5;28mprint\u001b[39m(\u001b[38;5;124m'\u001b[39m\u001b[38;5;124mhello\u001b[39m\u001b[38;5;124m'\u001b[39m \u001b[38;5;241m+\u001b[39m \u001b[38;5;241m5\u001b[39m)\n",
      "\u001b[1;31mTypeError\u001b[0m: can only concatenate str (not \"int\") to str"
     ]
    }
   ],
   "source": [
    "print('hello' + 5)"
   ]
  },
  {
   "cell_type": "code",
   "execution_count": 2,
   "id": "3d315d96-251d-4e24-abc2-18ec858ebd1c",
   "metadata": {},
   "outputs": [
    {
     "data": {
      "text/plain": [
       "'100'"
      ]
     },
     "execution_count": 2,
     "metadata": {},
     "output_type": "execute_result"
    }
   ],
   "source": [
    "str(100)"
   ]
  },
  {
   "cell_type": "code",
   "execution_count": 4,
   "id": "fb4bc8ed-cfd1-41f0-9422-160da7759396",
   "metadata": {},
   "outputs": [
    {
     "data": {
      "text/plain": [
       "str"
      ]
     },
     "execution_count": 4,
     "metadata": {},
     "output_type": "execute_result"
    }
   ],
   "source": [
    "type(str(100))"
   ]
  },
  {
   "cell_type": "code",
   "execution_count": 6,
   "id": "ea174b6b-c815-466a-a30e-06086f59eb4d",
   "metadata": {},
   "outputs": [
    {
     "ename": "SyntaxError",
     "evalue": "unterminated string literal (detected at line 1) (1543774181.py, line 1)",
     "output_type": "error",
     "traceback": [
      "\u001b[1;36m  Cell \u001b[1;32mIn[6], line 1\u001b[1;36m\u001b[0m\n\u001b[1;33m    weather = 'it's sunny'\u001b[0m\n\u001b[1;37m                         ^\u001b[0m\n\u001b[1;31mSyntaxError\u001b[0m\u001b[1;31m:\u001b[0m unterminated string literal (detected at line 1)\n"
     ]
    }
   ],
   "source": [
    "weather = 'it's sunny'"
   ]
  },
  {
   "cell_type": "code",
   "execution_count": 12,
   "id": "5852b67c-76ac-4230-872f-48bbe445dde5",
   "metadata": {},
   "outputs": [],
   "source": [
    "weather = \"it's sunny\""
   ]
  },
  {
   "cell_type": "code",
   "execution_count": 14,
   "id": "5e0fe6eb-083d-4e71-aabc-e5a5ae40172a",
   "metadata": {},
   "outputs": [
    {
     "name": "stdout",
     "output_type": "stream",
     "text": [
      "it's sunny\n"
     ]
    }
   ],
   "source": [
    "print(weather)"
   ]
  },
  {
   "cell_type": "code",
   "execution_count": 16,
   "id": "8ae666b5-7da7-493c-9de0-c07e2a354e3c",
   "metadata": {},
   "outputs": [
    {
     "ename": "SyntaxError",
     "evalue": "invalid syntax (212050105.py, line 1)",
     "output_type": "error",
     "traceback": [
      "\u001b[1;36m  Cell \u001b[1;32mIn[16], line 1\u001b[1;36m\u001b[0m\n\u001b[1;33m    weather = \"it's\" kind of \"sunny\"\u001b[0m\n\u001b[1;37m                     ^\u001b[0m\n\u001b[1;31mSyntaxError\u001b[0m\u001b[1;31m:\u001b[0m invalid syntax\n"
     ]
    }
   ],
   "source": [
    "weather = \"it's\" kind of \"sunny\""
   ]
  },
  {
   "cell_type": "code",
   "execution_count": 18,
   "id": "bab2d40a-2655-4a4a-993b-307e5a9b0275",
   "metadata": {},
   "outputs": [
    {
     "name": "stdout",
     "output_type": "stream",
     "text": [
      "it's \"kind of\" sunny\n"
     ]
    }
   ],
   "source": [
    "weather = \"it\\'s \\\"kind of\\\" sunny\"\n",
    "print(weather)"
   ]
  },
  {
   "cell_type": "code",
   "execution_count": 20,
   "id": "714a2f62-40fd-414a-bb1d-0289167c87f3",
   "metadata": {},
   "outputs": [
    {
     "name": "stdout",
     "output_type": "stream",
     "text": [
      "it\\s \"kind of\" sunny\n"
     ]
    }
   ],
   "source": [
    "weather = \"it\\\\s \\\"kind of\\\" sunny\"\n",
    "print(weather)"
   ]
  },
  {
   "cell_type": "markdown",
   "id": "59275d68-24a5-453f-b0ef-87d2676936d5",
   "metadata": {},
   "source": [
    "# Escape Sequence"
   ]
  },
  {
   "cell_type": "code",
   "execution_count": 22,
   "id": "295a1182-e2de-4017-8790-2081e6543352",
   "metadata": {},
   "outputs": [
    {
     "name": "stdout",
     "output_type": "stream",
     "text": [
      "\t it\\s \"kind of\" sunny\n"
     ]
    }
   ],
   "source": [
    "weather = \"\\t it\\\\s \\\"kind of\\\" sunny\"\n",
    "print(weather)"
   ]
  },
  {
   "cell_type": "code",
   "execution_count": 28,
   "id": "cdbcc027-1818-48c7-9334-d584f94997dd",
   "metadata": {},
   "outputs": [
    {
     "name": "stdout",
     "output_type": "stream",
     "text": [
      "it's \"kind of\" sunny \n",
      "hope you have a good day!\n"
     ]
    }
   ],
   "source": [
    "weather = \"it\\'s \\\"kind of\\\" sunny \\nhope you have a good day!\"\n",
    "print(weather)"
   ]
  },
  {
   "cell_type": "markdown",
   "id": "9edae5a5-fd4d-4509-a311-30722e47d420",
   "metadata": {},
   "source": [
    "# Formatted Strings "
   ]
  },
  {
   "cell_type": "code",
   "execution_count": 30,
   "id": "7a440435-7502-43bc-a8a8-553f18331c42",
   "metadata": {},
   "outputs": [
    {
     "name": "stdout",
     "output_type": "stream",
     "text": [
      "hijhonny\n"
     ]
    }
   ],
   "source": [
    "name = 'jhonny'\n",
    "print('hi'+ name)"
   ]
  },
  {
   "cell_type": "code",
   "execution_count": 36,
   "id": "714e9e6a-333e-4eb8-8d58-f3c639a7fd45",
   "metadata": {},
   "outputs": [
    {
     "ename": "TypeError",
     "evalue": "can only concatenate str (not \"int\") to str",
     "output_type": "error",
     "traceback": [
      "\u001b[1;31m---------------------------------------------------------------------------\u001b[0m",
      "\u001b[1;31mTypeError\u001b[0m                                 Traceback (most recent call last)",
      "Cell \u001b[1;32mIn[36], line 3\u001b[0m\n\u001b[0;32m      1\u001b[0m name \u001b[38;5;241m=\u001b[39m \u001b[38;5;124m'\u001b[39m\u001b[38;5;124mjhonny\u001b[39m\u001b[38;5;124m'\u001b[39m\n\u001b[0;32m      2\u001b[0m age\u001b[38;5;241m=\u001b[39m\u001b[38;5;241m65\u001b[39m\n\u001b[1;32m----> 3\u001b[0m \u001b[38;5;28mprint\u001b[39m(\u001b[38;5;124m'\u001b[39m\u001b[38;5;124mhi\u001b[39m\u001b[38;5;124m'\u001b[39m \u001b[38;5;241m+\u001b[39m name \u001b[38;5;241m+\u001b[39m \u001b[38;5;124m'\u001b[39m\u001b[38;5;124m. You are\u001b[39m\u001b[38;5;124m'\u001b[39m\u001b[38;5;241m+\u001b[39mage\u001b[38;5;241m+\u001b[39m\u001b[38;5;124m'\u001b[39m\u001b[38;5;124myears old.\u001b[39m\u001b[38;5;124m'\u001b[39m)\n",
      "\u001b[1;31mTypeError\u001b[0m: can only concatenate str (not \"int\") to str"
     ]
    }
   ],
   "source": [
    "name = 'jhonny'\n",
    "age=65\n",
    "print('hi' + name + '. You are'+age+'years old.')"
   ]
  },
  {
   "cell_type": "code",
   "execution_count": 40,
   "id": "9f148742-ef5e-48dd-9b3e-5ea13deeede9",
   "metadata": {},
   "outputs": [
    {
     "name": "stdout",
     "output_type": "stream",
     "text": [
      "hi jhonny.You are 65 years old.\n"
     ]
    }
   ],
   "source": [
    "name = 'jhonny'\n",
    "age=65\n",
    "print('hi ' + name + '.You are '+str(age)+' years old.')"
   ]
  },
  {
   "cell_type": "code",
   "execution_count": 42,
   "id": "603a957c-74b3-48a8-9f50-0c4880fd3c21",
   "metadata": {},
   "outputs": [
    {
     "name": "stdout",
     "output_type": "stream",
     "text": [
      "hi jhonny .You are 65 years old.\n"
     ]
    }
   ],
   "source": [
    "name = 'jhonny'\n",
    "age=65\n",
    "print(f'hi {name} .You are {age} years old.')"
   ]
  },
  {
   "cell_type": "code",
   "execution_count": 44,
   "id": "8a616ec5-320e-4a51-963f-663ea0d27e34",
   "metadata": {},
   "outputs": [
    {
     "name": "stdout",
     "output_type": "stream",
     "text": [
      "hi jhonny .You are 65 years old.\n"
     ]
    }
   ],
   "source": [
    "name = 'jhonny'\n",
    "age=65\n",
    "print('hi {} .You are {} years old.'.format(name,age))"
   ]
  },
  {
   "cell_type": "code",
   "execution_count": 46,
   "id": "e1ee55c1-2a38-4049-9f83-19136d3568c9",
   "metadata": {},
   "outputs": [
    {
     "name": "stdout",
     "output_type": "stream",
     "text": [
      "hi 65 .You are jhonny years old.\n"
     ]
    }
   ],
   "source": [
    "name = 'jhonny'\n",
    "age=65\n",
    "print('hi {1} .You are {0} years old.'.format(name,age))"
   ]
  },
  {
   "cell_type": "code",
   "execution_count": 48,
   "id": "85c471c5-8c65-4822-b4d6-797bd533b494",
   "metadata": {},
   "outputs": [
    {
     "name": "stdout",
     "output_type": "stream",
     "text": [
      "hi sally .You are 100 years old.\n"
     ]
    }
   ],
   "source": [
    "name = 'jhonny'\n",
    "age=65\n",
    "print('hi {new_name} .You are {age} years old.'.format(new_name = 'sally',age=100))"
   ]
  },
  {
   "cell_type": "markdown",
   "id": "9cc1dbd0-796d-4253-ad88-a35d3e2ce960",
   "metadata": {},
   "source": [
    "# Exercise String"
   ]
  },
  {
   "cell_type": "code",
   "execution_count": 53,
   "id": "2261e81a-943e-4e3c-9f52-02d1cf8c12b9",
   "metadata": {},
   "outputs": [
    {
     "name": "stdout",
     "output_type": "stream",
     "text": [
      "hello Cindy, your balance is 50.\n"
     ]
    }
   ],
   "source": [
    "print(\"hello {}, your balance is {}.\".format(\"Cindy\",50))"
   ]
  },
  {
   "cell_type": "code",
   "execution_count": 55,
   "id": "a8abbcdd-5a47-4ca7-a66e-e94764054c01",
   "metadata": {},
   "outputs": [
    {
     "name": "stdout",
     "output_type": "stream",
     "text": [
      "hello Cindy, your balance is 50.\n"
     ]
    }
   ],
   "source": [
    "print(\"hello {0}, your balance is {1}.\".format(\"Cindy\",50))"
   ]
  },
  {
   "cell_type": "code",
   "execution_count": 57,
   "id": "e831e791-6c40-4b51-91db-aa8424ce1d60",
   "metadata": {},
   "outputs": [
    {
     "name": "stdout",
     "output_type": "stream",
     "text": [
      "hello Cindy, your balance is 50.\n"
     ]
    }
   ],
   "source": [
    "print(\"hello {name}, your balance is {amount}.\".format(name=\"Cindy\",amount=50))"
   ]
  },
  {
   "cell_type": "code",
   "execution_count": 61,
   "id": "d3659fcd-b9c9-46ef-9219-d5b175d91de7",
   "metadata": {},
   "outputs": [
    {
     "name": "stdout",
     "output_type": "stream",
     "text": [
      "hello Cindy, your balance is 50.\n"
     ]
    }
   ],
   "source": [
    "print(\"hello {0}, your balance is {amount}.\".format(\"Cindy\",amount=50))"
   ]
  },
  {
   "cell_type": "code",
   "execution_count": 65,
   "id": "ebb7cd13-44cf-4756-b44f-959f1d838a45",
   "metadata": {},
   "outputs": [
    {
     "name": "stdout",
     "output_type": "stream",
     "text": [
      "hello Cindy, your balance is 50.\n"
     ]
    }
   ],
   "source": [
    "name=\"Cindy\"\n",
    "amount=50\n",
    "print(f\"hello {name}, your balance is {amount}.\")"
   ]
  },
  {
   "cell_type": "code",
   "execution_count": 2,
   "id": "ed785056-a3c9-4e83-b011-88106aad4e86",
   "metadata": {},
   "outputs": [
    {
     "name": "stdout",
     "output_type": "stream",
     "text": [
      "m\n",
      "e\n"
     ]
    }
   ],
   "source": [
    "selfish = 'me me me'\n",
    "print(selfish[0])\n",
    "print(selfish[7])"
   ]
  },
  {
   "cell_type": "code",
   "execution_count": 4,
   "id": "dbedba01-dcfa-4817-bc1f-839347aaf837",
   "metadata": {},
   "outputs": [
    {
     "name": "stdout",
     "output_type": "stream",
     "text": [
      "12\n"
     ]
    }
   ],
   "source": [
    "selfish = '123456789'\n",
    "print(selfish[0:2])"
   ]
  },
  {
   "cell_type": "code",
   "execution_count": 8,
   "id": "eee21e49-ccd1-4fd7-a8f8-3276070f2752",
   "metadata": {},
   "outputs": [
    {
     "name": "stdout",
     "output_type": "stream",
     "text": [
      "12345678\n"
     ]
    }
   ],
   "source": [
    "print(selfish[0:8])"
   ]
  },
  {
   "cell_type": "markdown",
   "id": "44ce85ab-c37d-4fec-b5b8-5a7d19f3c1c7",
   "metadata": {},
   "source": [
    "# Stepover"
   ]
  },
  {
   "cell_type": "code",
   "execution_count": 11,
   "id": "85f09918-9128-461e-80fa-5f7c8af156d6",
   "metadata": {},
   "outputs": [
    {
     "name": "stdout",
     "output_type": "stream",
     "text": [
      "1357\n"
     ]
    }
   ],
   "source": [
    "print(selfish[0:8:2])"
   ]
  },
  {
   "cell_type": "code",
   "execution_count": 13,
   "id": "da0f4185-f4d6-4cb5-b01f-2a1cdbe3e971",
   "metadata": {},
   "outputs": [
    {
     "name": "stdout",
     "output_type": "stream",
     "text": [
      "23456789\n"
     ]
    }
   ],
   "source": [
    "print(selfish[1:])"
   ]
  },
  {
   "cell_type": "code",
   "execution_count": 15,
   "id": "ead21df6-fc50-493b-98b4-d3a39384a98b",
   "metadata": {},
   "outputs": [
    {
     "name": "stdout",
     "output_type": "stream",
     "text": [
      "12345\n"
     ]
    }
   ],
   "source": [
    "print(selfish[:5])"
   ]
  },
  {
   "cell_type": "code",
   "execution_count": 17,
   "id": "35ae3c82-1259-46eb-9cb1-f15c8eb78d4b",
   "metadata": {},
   "outputs": [
    {
     "name": "stdout",
     "output_type": "stream",
     "text": [
      "987654321\n"
     ]
    }
   ],
   "source": [
    "print(selfish[::-1])"
   ]
  },
  {
   "cell_type": "markdown",
   "id": "5af22fc4-0b88-4f61-bb33-fc5dde7b569f",
   "metadata": {},
   "source": [
    "# Exercise Indexes\n"
   ]
  },
  {
   "cell_type": "code",
   "execution_count": 24,
   "id": "927fb8a7-f42d-4c1e-a566-70ac75f44a40",
   "metadata": {},
   "outputs": [],
   "source": [
    "python = 'I am PYHTON'"
   ]
  },
  {
   "cell_type": "code",
   "execution_count": 26,
   "id": "7114a0d6-15bd-4c0b-bcfe-cf6c23c74f93",
   "metadata": {},
   "outputs": [
    {
     "name": "stdout",
     "output_type": "stream",
     "text": [
      " am\n"
     ]
    }
   ],
   "source": [
    "print(python[1:4])"
   ]
  },
  {
   "cell_type": "code",
   "execution_count": 28,
   "id": "1f9c5552-ca51-4dd9-887c-c7a4bd4caf4f",
   "metadata": {},
   "outputs": [
    {
     "name": "stdout",
     "output_type": "stream",
     "text": [
      " am PYHTON\n"
     ]
    }
   ],
   "source": [
    "print(python[1:])"
   ]
  },
  {
   "cell_type": "code",
   "execution_count": 30,
   "id": "f0ff8c85-d537-4a72-9909-cac887086691",
   "metadata": {},
   "outputs": [
    {
     "name": "stdout",
     "output_type": "stream",
     "text": [
      "I am PYHTON\n"
     ]
    }
   ],
   "source": [
    "print(python[:])"
   ]
  },
  {
   "cell_type": "code",
   "execution_count": 32,
   "id": "a65e2bbe-142a-4eca-ab91-78b3bd651e7c",
   "metadata": {},
   "outputs": [
    {
     "name": "stdout",
     "output_type": "stream",
     "text": [
      " am PYHTON\n"
     ]
    }
   ],
   "source": [
    "print(python[1:100])"
   ]
  },
  {
   "cell_type": "code",
   "execution_count": 34,
   "id": "1994ca95-b1d6-4e33-9fda-1bb225d9a80c",
   "metadata": {},
   "outputs": [
    {
     "name": "stdout",
     "output_type": "stream",
     "text": [
      "N\n"
     ]
    }
   ],
   "source": [
    "print(python[-1])"
   ]
  },
  {
   "cell_type": "code",
   "execution_count": 36,
   "id": "5b592015-034d-4dbf-8d66-5b5a52267dff",
   "metadata": {},
   "outputs": [
    {
     "name": "stdout",
     "output_type": "stream",
     "text": [
      "H\n"
     ]
    }
   ],
   "source": [
    "print(python[-4])"
   ]
  },
  {
   "cell_type": "code",
   "execution_count": 40,
   "id": "90ef354c-4666-47a5-88d2-2ae13d6caaa2",
   "metadata": {},
   "outputs": [
    {
     "name": "stdout",
     "output_type": "stream",
     "text": [
      "I am PYH\n"
     ]
    }
   ],
   "source": [
    "print(python[:-3])"
   ]
  },
  {
   "cell_type": "code",
   "execution_count": 42,
   "id": "c7df0ee7-2336-4195-8246-66f239554f44",
   "metadata": {},
   "outputs": [
    {
     "name": "stdout",
     "output_type": "stream",
     "text": [
      "TON\n"
     ]
    }
   ],
   "source": [
    "print(python[-3:])"
   ]
  },
  {
   "cell_type": "code",
   "execution_count": 44,
   "id": "ef507bc6-e689-4aeb-a130-1008e00a7f40",
   "metadata": {},
   "outputs": [
    {
     "name": "stdout",
     "output_type": "stream",
     "text": [
      "NOTHYP ma I\n"
     ]
    }
   ],
   "source": [
    "print(python[::-1])"
   ]
  },
  {
   "cell_type": "code",
   "execution_count": null,
   "id": "4ee4c5c5-53b7-4446-bb6c-44c841eb817e",
   "metadata": {},
   "outputs": [],
   "source": []
  }
 ],
 "metadata": {
  "kernelspec": {
   "display_name": "Python [conda env:base] *",
   "language": "python",
   "name": "conda-base-py"
  },
  "language_info": {
   "codemirror_mode": {
    "name": "ipython",
    "version": 3
   },
   "file_extension": ".py",
   "mimetype": "text/x-python",
   "name": "python",
   "nbconvert_exporter": "python",
   "pygments_lexer": "ipython3",
   "version": "3.12.7"
  }
 },
 "nbformat": 4,
 "nbformat_minor": 5
}

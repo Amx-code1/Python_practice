{
 "cells": [
  {
   "cell_type": "code",
   "execution_count": 1,
   "id": "86a67c3f-cd89-4356-91c6-cce5f901e55d",
   "metadata": {},
   "outputs": [
    {
     "ename": "SyntaxError",
     "evalue": "invalid syntax (617438521.py, line 4)",
     "output_type": "error",
     "traceback": [
      "\u001b[1;36m  Cell \u001b[1;32mIn[1], line 4\u001b[1;36m\u001b[0m\n\u001b[1;33m    self.age age\u001b[0m\n\u001b[1;37m             ^\u001b[0m\n\u001b[1;31mSyntaxError\u001b[0m\u001b[1;31m:\u001b[0m invalid syntax\n"
     ]
    }
   ],
   "source": [
    "class cats:\n",
    "    def __init__ (self,name,age):\n",
    "        self.name = name\n",
    "        self.age age\n",
    "\n",
    "cat1= cats('tom',5)\n",
    "cat2= cats('boots',8)\n",
    "cat3=cats('jerry',7)\n",
    "\n",
    "def oldest_cat(*args):\n",
    "    return max(args)\n",
    "    \n",
    "print(f'Oldest Cat is {oldest_cat(cat1.age, cat2.age, cat3.age)} years old.')\n"
   ]
  },
  {
   "cell_type": "code",
   "execution_count": null,
   "id": "c5208b36-9636-44bf-99d7-f6b17f62184b",
   "metadata": {},
   "outputs": [],
   "source": []
  }
 ],
 "metadata": {
  "kernelspec": {
   "display_name": "Python 3 (ipykernel)",
   "language": "python",
   "name": "python3"
  },
  "language_info": {
   "codemirror_mode": {
    "name": "ipython",
    "version": 3
   },
   "file_extension": ".py",
   "mimetype": "text/x-python",
   "name": "python",
   "nbconvert_exporter": "python",
   "pygments_lexer": "ipython3",
   "version": "3.12.7"
  }
 },
 "nbformat": 4,
 "nbformat_minor": 5
}

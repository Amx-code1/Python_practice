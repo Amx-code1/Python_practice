{
 "cells": [
  {
   "cell_type": "markdown",
   "id": "5c2a1f71-8135-484b-ac6c-f440f5015f84",
   "metadata": {},
   "source": [
    "# List"
   ]
  },
  {
   "cell_type": "code",
   "execution_count": 4,
   "id": "aa883e90-605f-4334-876f-ee7e028a75cf",
   "metadata": {},
   "outputs": [],
   "source": [
    "li = [1,2,3,4,5]"
   ]
  },
  {
   "cell_type": "code",
   "execution_count": 6,
   "id": "50626b1b-1da9-482c-ae7e-8da6824fab36",
   "metadata": {},
   "outputs": [],
   "source": [
    "li2 = ['a','b','c']"
   ]
  },
  {
   "cell_type": "code",
   "execution_count": 10,
   "id": "8e238329-3124-4bd5-88f1-0a5da625118c",
   "metadata": {},
   "outputs": [],
   "source": [
    "li3 = [1,2,'a',True]"
   ]
  },
  {
   "cell_type": "code",
   "execution_count": 12,
   "id": "98d3b5b8-a9f3-4b6f-b4fc-ad92a08e3aed",
   "metadata": {},
   "outputs": [
    {
     "name": "stdout",
     "output_type": "stream",
     "text": [
      "notebooks\n"
     ]
    }
   ],
   "source": [
    "amazon_cart = ['notebooks','sunglasses']\n",
    "print(amazon_cart[0])"
   ]
  },
  {
   "cell_type": "code",
   "execution_count": 14,
   "id": "f9518510-85f2-49a5-95b3-33c1d13f9495",
   "metadata": {},
   "outputs": [
    {
     "name": "stdout",
     "output_type": "stream",
     "text": [
      "sunglasses\n"
     ]
    }
   ],
   "source": [
    "print(amazon_cart[1])"
   ]
  },
  {
   "cell_type": "code",
   "execution_count": 16,
   "id": "9fa7d1fd-2eb0-44cf-b462-09f63bec8762",
   "metadata": {},
   "outputs": [
    {
     "ename": "IndexError",
     "evalue": "list index out of range",
     "output_type": "error",
     "traceback": [
      "\u001b[1;31m---------------------------------------------------------------------------\u001b[0m",
      "\u001b[1;31mIndexError\u001b[0m                                Traceback (most recent call last)",
      "Cell \u001b[1;32mIn[16], line 1\u001b[0m\n\u001b[1;32m----> 1\u001b[0m \u001b[38;5;28mprint\u001b[39m(amazon_cart[\u001b[38;5;241m2\u001b[39m])\n",
      "\u001b[1;31mIndexError\u001b[0m: list index out of range"
     ]
    }
   ],
   "source": [
    "print(amazon_cart[2])"
   ]
  },
  {
   "cell_type": "markdown",
   "id": "08399251-5db0-4c00-8fed-2012865f8cc8",
   "metadata": {},
   "source": [
    "# List Slicing"
   ]
  },
  {
   "cell_type": "code",
   "execution_count": 9,
   "id": "3eabbb01-d356-42fc-97d0-ae128936f676",
   "metadata": {},
   "outputs": [
    {
     "name": "stdout",
     "output_type": "stream",
     "text": [
      "notebooks\n"
     ]
    }
   ],
   "source": [
    "amazon_cart = [\n",
    "    'notebooks',\n",
    "    'sunglasses',\n",
    "    'toys',\n",
    "    'grapes'\n",
    "]\n",
    "print(amazon_cart[0])"
   ]
  },
  {
   "cell_type": "code",
   "execution_count": 11,
   "id": "212bec7b-8ec2-4ee8-956c-5e1b15da984e",
   "metadata": {},
   "outputs": [
    {
     "name": "stdout",
     "output_type": "stream",
     "text": [
      "['notebooks', 'sunglasses']\n"
     ]
    }
   ],
   "source": [
    "print(amazon_cart[0:2])"
   ]
  },
  {
   "cell_type": "code",
   "execution_count": 13,
   "id": "6932553d-e4c0-4808-bbdc-bb57a0e6033f",
   "metadata": {},
   "outputs": [
    {
     "name": "stdout",
     "output_type": "stream",
     "text": [
      "['notebooks', 'toys']\n"
     ]
    }
   ],
   "source": [
    "print(amazon_cart[0::2])"
   ]
  },
  {
   "cell_type": "markdown",
   "id": "cad279d7-efef-4637-bff2-8abed144df27",
   "metadata": {},
   "source": [
    "# List mutable"
   ]
  },
  {
   "cell_type": "code",
   "execution_count": 15,
   "id": "9818abea-3bb0-4486-984e-d28f072009d4",
   "metadata": {},
   "outputs": [
    {
     "name": "stdout",
     "output_type": "stream",
     "text": [
      "['laptop', 'sunglasses', 'toys', 'grapes']\n"
     ]
    }
   ],
   "source": [
    "amazon_cart = [\n",
    "    'notebooks',\n",
    "    'sunglasses',\n",
    "    'toys',\n",
    "    'grapes'\n",
    "]\n",
    "amazon_cart[0] = 'laptop'\n",
    "print(amazon_cart)"
   ]
  },
  {
   "cell_type": "code",
   "execution_count": 17,
   "id": "80279344-a2cc-4b25-9d1e-78cc0d638464",
   "metadata": {},
   "outputs": [
    {
     "name": "stdout",
     "output_type": "stream",
     "text": [
      "['sunglasses', 'toys']\n",
      "['laptop', 'sunglasses', 'toys', 'grapes']\n"
     ]
    }
   ],
   "source": [
    " amazon_cart = [\n",
    "    'notebooks',\n",
    "    'sunglasses',\n",
    "    'toys',\n",
    "    'grapes'\n",
    "]\n",
    "amazon_cart[0] = 'laptop'\n",
    "print(amazon_cart[1:3])\n",
    "print(amazon_cart)"
   ]
  },
  {
   "cell_type": "code",
   "execution_count": 21,
   "id": "9d902815-8f9a-4caf-8f2a-4a8413e8615d",
   "metadata": {},
   "outputs": [
    {
     "name": "stdout",
     "output_type": "stream",
     "text": [
      "['gum', 'sunglasses', 'toys']\n",
      "['laptop', 'sunglasses', 'toys', 'grapes']\n"
     ]
    }
   ],
   "source": [
    " amazon_cart = [\n",
    "    'notebooks',\n",
    "    'sunglasses',\n",
    "    'toys',\n",
    "    'grapes'\n",
    "]\n",
    "amazon_cart[0] = 'laptop'\n",
    "new_cart = amazon_cart[0:3]\n",
    "new_cart[0] = 'gum'\n",
    "print(new_cart)\n",
    "print(amazon_cart)"
   ]
  },
  {
   "cell_type": "markdown",
   "id": "c2c36005-a588-4f84-a8fc-2ee0576c906b",
   "metadata": {},
   "source": [
    "# Interview question "
   ]
  },
  {
   "cell_type": "code",
   "execution_count": 23,
   "id": "b45db818-881b-4a5b-80b6-95f0f8fde507",
   "metadata": {},
   "outputs": [
    {
     "name": "stdout",
     "output_type": "stream",
     "text": [
      "['gum', 'sunglasses', 'toys', 'grapes']\n",
      "['gum', 'sunglasses', 'toys', 'grapes']\n"
     ]
    }
   ],
   "source": [
    " amazon_cart = [\n",
    "    'notebooks',\n",
    "    'sunglasses',\n",
    "    'toys',\n",
    "    'grapes'\n",
    "]\n",
    "amazon_cart[0] = 'laptop'\n",
    "new_cart = amazon_cart\n",
    "new_cart[0] = 'gum'\n",
    "print(new_cart)\n",
    "print(amazon_cart)"
   ]
  },
  {
   "cell_type": "markdown",
   "id": "2d078e72-01ef-406a-8028-c49d27a21f25",
   "metadata": {},
   "source": [
    " # For copying List"
   ]
  },
  {
   "cell_type": "code",
   "execution_count": 25,
   "id": "796f2365-a1f1-4a7e-93df-9400c7649143",
   "metadata": {},
   "outputs": [
    {
     "name": "stdout",
     "output_type": "stream",
     "text": [
      "['gum', 'sunglasses', 'toys', 'grapes']\n",
      "['laptop', 'sunglasses', 'toys', 'grapes']\n"
     ]
    }
   ],
   "source": [
    " amazon_cart = [\n",
    "    'notebooks',\n",
    "    'sunglasses',\n",
    "    'toys',\n",
    "    'grapes'\n",
    "]\n",
    "amazon_cart[0] = 'laptop'\n",
    "new_cart = amazon_cart[:]\n",
    "new_cart[0] = 'gum'\n",
    "print(new_cart)\n",
    "print(amazon_cart)"
   ]
  },
  {
   "cell_type": "markdown",
   "id": "f78b33e5-fdb7-4d0c-a66f-569c8dde06d6",
   "metadata": {},
   "source": [
    "# List Slicing Exercise"
   ]
  },
  {
   "cell_type": "code",
   "execution_count": 28,
   "id": "08b96ea2-966b-40c5-a385-73c1fb6e6ddf",
   "metadata": {},
   "outputs": [
    {
     "name": "stdout",
     "output_type": "stream",
     "text": [
      "b\n"
     ]
    }
   ],
   "source": [
    "new_list = ['a','b','c']\n",
    "print(new_list[1])"
   ]
  },
  {
   "cell_type": "code",
   "execution_count": 30,
   "id": "86e20af6-5978-4b9d-be77-ad2313992493",
   "metadata": {},
   "outputs": [
    {
     "name": "stdout",
     "output_type": "stream",
     "text": [
      "b\n"
     ]
    }
   ],
   "source": [
    "print(new_list[-2])"
   ]
  },
  {
   "cell_type": "code",
   "execution_count": 32,
   "id": "d8d378e0-6d3d-4d47-b6b3-5db23019fc52",
   "metadata": {},
   "outputs": [
    {
     "name": "stdout",
     "output_type": "stream",
     "text": [
      "['b', 'c']\n"
     ]
    }
   ],
   "source": [
    "print(new_list[1:3])"
   ]
  },
  {
   "cell_type": "code",
   "execution_count": 34,
   "id": "fbe8c077-4ac6-4e9c-9c9f-424f1e1b1349",
   "metadata": {},
   "outputs": [],
   "source": [
    "new_list[0] = 'z'"
   ]
  },
  {
   "cell_type": "code",
   "execution_count": 36,
   "id": "85d02922-d257-4dfe-9f5a-2ee7bf54766f",
   "metadata": {},
   "outputs": [
    {
     "name": "stdout",
     "output_type": "stream",
     "text": [
      "['z', 'b', 'c']\n"
     ]
    }
   ],
   "source": [
    "print(new_list)"
   ]
  },
  {
   "cell_type": "code",
   "execution_count": 38,
   "id": "8078cfcf-d9ad-41fd-8293-a680ca62b07f",
   "metadata": {},
   "outputs": [],
   "source": [
    "my_list = [1,2,3]"
   ]
  },
  {
   "cell_type": "code",
   "execution_count": 40,
   "id": "88bc0ba7-7d5c-4e6e-9fad-b0ef08a86c5f",
   "metadata": {},
   "outputs": [],
   "source": [
    "bonus = my_list + [5]"
   ]
  },
  {
   "cell_type": "code",
   "execution_count": 42,
   "id": "a7c60f10-8c00-4d63-ae8c-0bbb7bd0634b",
   "metadata": {},
   "outputs": [],
   "source": [
    "my_list[0] = 'z'"
   ]
  },
  {
   "cell_type": "code",
   "execution_count": 44,
   "id": "c37d2803-b164-499a-8a1c-8fdc930ae062",
   "metadata": {},
   "outputs": [
    {
     "name": "stdout",
     "output_type": "stream",
     "text": [
      "['z', 2, 3]\n"
     ]
    }
   ],
   "source": [
    "print(my_list)"
   ]
  },
  {
   "cell_type": "code",
   "execution_count": 46,
   "id": "48de4607-dd3d-4a47-a478-58f93e9750fd",
   "metadata": {},
   "outputs": [
    {
     "name": "stdout",
     "output_type": "stream",
     "text": [
      "[1, 2, 3, 5]\n"
     ]
    }
   ],
   "source": [
    "print(bonus)"
   ]
  },
  {
   "cell_type": "markdown",
   "id": "0b492283-e1aa-4677-af5f-c20e1399124a",
   "metadata": {},
   "source": [
    "# Matrix"
   ]
  },
  {
   "cell_type": "code",
   "execution_count": 3,
   "id": "8d632790-f28c-424c-b888-50e56fd2e5a8",
   "metadata": {},
   "outputs": [],
   "source": [
    "matrix = [\n",
    "    [1,2,3],\n",
    "    [2,4,6],\n",
    "    [7, 8,9]\n",
    "]"
   ]
  },
  {
   "cell_type": "code",
   "execution_count": 5,
   "id": "d75732c7-e92e-4b7c-b5e5-b4b25d8f548e",
   "metadata": {},
   "outputs": [
    {
     "name": "stdout",
     "output_type": "stream",
     "text": [
      "[[1, 2, 3], [2, 4, 6], [7, 8, 9]]\n"
     ]
    }
   ],
   "source": [
    "print(matrix)"
   ]
  },
  {
   "cell_type": "code",
   "execution_count": 7,
   "id": "9052dbdd-6450-4993-bd93-7336f9cd2373",
   "metadata": {},
   "outputs": [
    {
     "data": {
      "text/plain": [
       "2"
      ]
     },
     "execution_count": 7,
     "metadata": {},
     "output_type": "execute_result"
    }
   ],
   "source": [
    "matrix[0][1]"
   ]
  },
  {
   "cell_type": "code",
   "execution_count": 9,
   "id": "dcd2a1e7-e685-45c7-841c-96d034eb3725",
   "metadata": {},
   "outputs": [
    {
     "data": {
      "text/plain": [
       "[1, 2, 3]"
      ]
     },
     "execution_count": 9,
     "metadata": {},
     "output_type": "execute_result"
    }
   ],
   "source": [
    "matrix[0]"
   ]
  },
  {
   "cell_type": "code",
   "execution_count": 11,
   "id": "322400af-2538-4ac5-b5b3-455b805d2964",
   "metadata": {},
   "outputs": [],
   "source": [
    " basket = [\"Banana\", [\"Apples\", [\"Oranges\"], \"Blueberries\"]];"
   ]
  },
  {
   "cell_type": "code",
   "execution_count": 17,
   "id": "4a348954-a9f1-45a7-891b-78d433970c55",
   "metadata": {},
   "outputs": [
    {
     "data": {
      "text/plain": [
       "'Oranges'"
      ]
     },
     "execution_count": 17,
     "metadata": {},
     "output_type": "execute_result"
    }
   ],
   "source": [
    "basket [1][1][0]"
   ]
  },
  {
   "cell_type": "markdown",
   "id": "3554f38a-26af-453d-8d00-da7c13dee8f1",
   "metadata": {},
   "source": [
    "# List Methods"
   ]
  },
  {
   "cell_type": "code",
   "execution_count": 20,
   "id": "faf31b64-3779-4e5b-8e94-01c51774efe8",
   "metadata": {},
   "outputs": [
    {
     "name": "stdout",
     "output_type": "stream",
     "text": [
      "5\n"
     ]
    }
   ],
   "source": [
    "basket = [1,2,3,4,5]\n",
    "print(len(basket))"
   ]
  },
  {
   "cell_type": "code",
   "execution_count": 22,
   "id": "69810b2a-5c6d-4377-beb1-a9eb96f6282c",
   "metadata": {},
   "outputs": [
    {
     "name": "stdout",
     "output_type": "stream",
     "text": [
      "None\n"
     ]
    }
   ],
   "source": [
    "print(basket.append(100))"
   ]
  },
  {
   "cell_type": "code",
   "execution_count": 26,
   "id": "c7a6e7ae-523e-40dd-be4e-0542dc9f0d0e",
   "metadata": {},
   "outputs": [
    {
     "name": "stdout",
     "output_type": "stream",
     "text": [
      "[1, 2, 3, 4, 100, 5]\n",
      "[1, 2, 3, 4, 100, 5]\n"
     ]
    }
   ],
   "source": [
    "basket = [1,2,3,4,5]\n",
    "basket.insert(4,100)\n",
    "new_list = basket\n",
    "print(basket)\n",
    "print(new_list)"
   ]
  },
  {
   "cell_type": "code",
   "execution_count": 28,
   "id": "1f722d64-dddb-4a17-bfcc-6ed55bac09a1",
   "metadata": {},
   "outputs": [
    {
     "data": {
      "text/plain": [
       "5"
      ]
     },
     "execution_count": 28,
     "metadata": {},
     "output_type": "execute_result"
    }
   ],
   "source": [
    "basket.pop()"
   ]
  },
  {
   "cell_type": "code",
   "execution_count": 30,
   "id": "9f6ada57-ad94-4a0a-92fd-5ba0713771b9",
   "metadata": {},
   "outputs": [
    {
     "name": "stdout",
     "output_type": "stream",
     "text": [
      "[1, 2, 3, 4, 100]\n"
     ]
    }
   ],
   "source": [
    "print(basket)"
   ]
  },
  {
   "cell_type": "code",
   "execution_count": 32,
   "id": "3661b5e6-f836-4d81-8076-b2dba1d8fd42",
   "metadata": {},
   "outputs": [
    {
     "name": "stdout",
     "output_type": "stream",
     "text": [
      "[1, 2, 3, 4]\n"
     ]
    }
   ],
   "source": [
    "basket.pop()\n",
    "print(basket)"
   ]
  },
  {
   "cell_type": "code",
   "execution_count": 34,
   "id": "49606e2b-2770-4b2d-8765-3744004bb26f",
   "metadata": {},
   "outputs": [],
   "source": [
    "basket = [1,2,3,4,5]"
   ]
  },
  {
   "cell_type": "code",
   "execution_count": 36,
   "id": "ebd1b513-742f-476e-ac22-aad84b25e5b8",
   "metadata": {},
   "outputs": [
    {
     "name": "stdout",
     "output_type": "stream",
     "text": [
      "[2, 3, 4, 5]\n"
     ]
    }
   ],
   "source": [
    "basket.pop(0)\n",
    "print(basket)"
   ]
  },
  {
   "cell_type": "code",
   "execution_count": 38,
   "id": "54b85b8f-f3f0-4d75-b3d7-cd0d64434664",
   "metadata": {},
   "outputs": [
    {
     "name": "stdout",
     "output_type": "stream",
     "text": [
      "[2, 3, 5]\n"
     ]
    }
   ],
   "source": [
    "basket.remove(4)\n",
    "print(basket)"
   ]
  },
  {
   "cell_type": "code",
   "execution_count": 40,
   "id": "759a3393-9515-4f71-a826-32f58aedfac1",
   "metadata": {},
   "outputs": [
    {
     "name": "stdout",
     "output_type": "stream",
     "text": [
      "5\n"
     ]
    }
   ],
   "source": [
    "new_list = basket.pop()\n",
    "print(new_list)"
   ]
  },
  {
   "cell_type": "code",
   "execution_count": 42,
   "id": "8305f0e1-83e7-4a27-81b3-325bcb5a7f62",
   "metadata": {},
   "outputs": [
    {
     "name": "stdout",
     "output_type": "stream",
     "text": [
      "None\n"
     ]
    }
   ],
   "source": [
    "new_list = basket.clear()\n",
    "print(new_list)"
   ]
  },
  {
   "cell_type": "code",
   "execution_count": 46,
   "id": "66e3f092-aca9-4dda-bed3-0a3dae7410b1",
   "metadata": {},
   "outputs": [
    {
     "name": "stdout",
     "output_type": "stream",
     "text": [
      "[]\n"
     ]
    }
   ],
   "source": [
    "new_list = basket.clear()\n",
    "print(basket)"
   ]
  },
  {
   "cell_type": "markdown",
   "id": "0e2abd75-8eca-4511-9bb7-ed5f17bd7e32",
   "metadata": {},
   "source": [
    "# List Methods 2"
   ]
  },
  {
   "cell_type": "code",
   "execution_count": 3,
   "id": "5619a1b0-8104-428a-bcf2-15d14174777f",
   "metadata": {},
   "outputs": [
    {
     "name": "stdout",
     "output_type": "stream",
     "text": [
      "1\n"
     ]
    }
   ],
   "source": [
    "basket = [1,2,3,4,5]\n",
    "print(basket.index(2))"
   ]
  },
  {
   "cell_type": "code",
   "execution_count": 5,
   "id": "d9a1fcf2-3258-45e7-aa9b-cbf273cc283f",
   "metadata": {},
   "outputs": [
    {
     "ename": "ValueError",
     "evalue": "'d' is not in list",
     "output_type": "error",
     "traceback": [
      "\u001b[1;31m---------------------------------------------------------------------------\u001b[0m",
      "\u001b[1;31mValueError\u001b[0m                                Traceback (most recent call last)",
      "Cell \u001b[1;32mIn[5], line 2\u001b[0m\n\u001b[0;32m      1\u001b[0m basket \u001b[38;5;241m=\u001b[39m [\u001b[38;5;124m'\u001b[39m\u001b[38;5;124ma\u001b[39m\u001b[38;5;124m'\u001b[39m,\u001b[38;5;124m'\u001b[39m\u001b[38;5;124mb\u001b[39m\u001b[38;5;124m'\u001b[39m,\u001b[38;5;124m'\u001b[39m\u001b[38;5;124mc\u001b[39m\u001b[38;5;124m'\u001b[39m,\u001b[38;5;124m'\u001b[39m\u001b[38;5;124md\u001b[39m\u001b[38;5;124m'\u001b[39m,\u001b[38;5;124m'\u001b[39m\u001b[38;5;124me\u001b[39m\u001b[38;5;124m'\u001b[39m]\n\u001b[1;32m----> 2\u001b[0m \u001b[38;5;28mprint\u001b[39m(basket\u001b[38;5;241m.\u001b[39mindex(\u001b[38;5;124m'\u001b[39m\u001b[38;5;124md\u001b[39m\u001b[38;5;124m'\u001b[39m,\u001b[38;5;241m0\u001b[39m,\u001b[38;5;241m3\u001b[39m))\n",
      "\u001b[1;31mValueError\u001b[0m: 'd' is not in list"
     ]
    }
   ],
   "source": [
    "basket = ['a','b','c','d','e']\n",
    "print(basket.index('d',0,3))"
   ]
  },
  {
   "cell_type": "code",
   "execution_count": 7,
   "id": "86e15893-1f63-4d68-aa4d-3685117df214",
   "metadata": {},
   "outputs": [
    {
     "name": "stdout",
     "output_type": "stream",
     "text": [
      "3\n"
     ]
    }
   ],
   "source": [
    "basket = ['a','b','c','d','e']\n",
    "print(basket.index('d',0,4))"
   ]
  },
  {
   "cell_type": "code",
   "execution_count": 9,
   "id": "f8a37cf0-cf1f-4302-b86e-c1a7dba22051",
   "metadata": {},
   "outputs": [],
   "source": [
    "# in keyword"
   ]
  },
  {
   "cell_type": "code",
   "execution_count": 11,
   "id": "7953e772-e724-4deb-af8e-2ddb849d9d4f",
   "metadata": {},
   "outputs": [
    {
     "name": "stdout",
     "output_type": "stream",
     "text": [
      "True\n"
     ]
    }
   ],
   "source": [
    "print('d' in basket)"
   ]
  },
  {
   "cell_type": "code",
   "execution_count": 13,
   "id": "2bbeb40a-e1a0-4d90-b586-ceba55185e19",
   "metadata": {},
   "outputs": [
    {
     "name": "stdout",
     "output_type": "stream",
     "text": [
      "False\n"
     ]
    }
   ],
   "source": [
    "print('x' in basket)"
   ]
  },
  {
   "cell_type": "code",
   "execution_count": 15,
   "id": "f672d39d-4d59-4b87-a206-a0eb56594af3",
   "metadata": {},
   "outputs": [
    {
     "name": "stdout",
     "output_type": "stream",
     "text": [
      "True\n"
     ]
    }
   ],
   "source": [
    "print( 'i' in 'hi my name  is ian')"
   ]
  },
  {
   "cell_type": "code",
   "execution_count": 17,
   "id": "a31e8b65-a90c-4366-8219-763433cc3233",
   "metadata": {},
   "outputs": [],
   "source": [
    "# count "
   ]
  },
  {
   "cell_type": "code",
   "execution_count": 19,
   "id": "8c200274-f7bf-4097-93ec-a65f116d51bd",
   "metadata": {},
   "outputs": [
    {
     "name": "stdout",
     "output_type": "stream",
     "text": [
      "1\n"
     ]
    }
   ],
   "source": [
    "basket = ['a','b','c','d','e']\n",
    "print(basket.count('d'))"
   ]
  },
  {
   "cell_type": "code",
   "execution_count": 21,
   "id": "5e6d6440-5adb-46db-8691-cbd9d69c64a5",
   "metadata": {},
   "outputs": [
    {
     "name": "stdout",
     "output_type": "stream",
     "text": [
      "2\n"
     ]
    }
   ],
   "source": [
    "basket = ['a','b','c','d','e','d']\n",
    "print(basket.count('d'))"
   ]
  },
  {
   "cell_type": "code",
   "execution_count": 23,
   "id": "1937a751-508f-46eb-9c8c-756be2c17674",
   "metadata": {},
   "outputs": [],
   "source": [
    " basket = [\"Banana\", \"Apples\", \"Oranges\", \"Blueberries\"]"
   ]
  },
  {
   "cell_type": "code",
   "execution_count": 25,
   "id": "e4056a85-cc10-4a4c-9b33-a67e7023c972",
   "metadata": {},
   "outputs": [],
   "source": [
    "# 1. Remove the Banana from the list\n",
    "\n",
    "# 2. Remove \"Blueberries\" from the list.\n",
    "\n",
    "# 3. Put \"Kiwi\" at the end of the list.\n",
    "\n",
    "# 4. Add \"Apples\" at the beginning of the list\n",
    "\n",
    "# 5. Count how many apples in the basket\n",
    "\n",
    "# 6. empty the basket"
   ]
  },
  {
   "cell_type": "code",
   "execution_count": 67,
   "id": "f836761f-e36d-4d0d-a977-6cd464e88f39",
   "metadata": {},
   "outputs": [
    {
     "name": "stdout",
     "output_type": "stream",
     "text": [
      "['Apples', 'Oranges', 'Blueberries']\n"
     ]
    }
   ],
   "source": [
    "# 1. Remove the Banana from the list\n",
    "basket = [\"Banana\", \"Apples\", \"Oranges\", \"Blueberries\"]\n",
    "basket.remove('Banana')\n",
    "print(basket)"
   ]
  },
  {
   "cell_type": "code",
   "execution_count": 69,
   "id": "623a01e6-3e7d-4f53-86f3-cb8de2e20f06",
   "metadata": {},
   "outputs": [
    {
     "name": "stdout",
     "output_type": "stream",
     "text": [
      "['Apples', 'Oranges']\n"
     ]
    }
   ],
   "source": [
    "# 2. Remove \"Blueberries\" from the list.\n",
    "basket.remove('Blueberries')\n",
    "print(basket)"
   ]
  },
  {
   "cell_type": "code",
   "execution_count": 73,
   "id": "371753fe-24aa-4be0-9576-d341aa8432b3",
   "metadata": {},
   "outputs": [
    {
     "name": "stdout",
     "output_type": "stream",
     "text": [
      "['Apples', 'Oranges', 'Kiwi', 'Kiwi']\n"
     ]
    }
   ],
   "source": [
    "basket.append('Kiwi')\n",
    "print(basket)"
   ]
  },
  {
   "cell_type": "code",
   "execution_count": 55,
   "id": "89c7e9c6-f5a4-452c-84d3-5d2d4dfe5aef",
   "metadata": {},
   "outputs": [
    {
     "name": "stdout",
     "output_type": "stream",
     "text": [
      "['Apples', 'Oranges', 'Kiwi']\n"
     ]
    }
   ],
   "source": [
    "# 3. Put \"Kiwi\" at the end of the list.\n",
    "basket.insert(2,'Kiwi')\n",
    "print(basket)"
   ]
  },
  {
   "cell_type": "code",
   "execution_count": 57,
   "id": "957f74fb-56dc-43bb-b6ca-1fc0821e3e52",
   "metadata": {},
   "outputs": [
    {
     "name": "stdout",
     "output_type": "stream",
     "text": [
      "['Apples', 'Apples', 'Oranges', 'Kiwi']\n"
     ]
    }
   ],
   "source": [
    "# 4. Add \"Apples\" at the beginning of the list\n",
    "basket.insert(0,'Apples')\n",
    "print(basket)"
   ]
  },
  {
   "cell_type": "code",
   "execution_count": 59,
   "id": "e6babbb5-eb4c-4726-b996-c1619376f9aa",
   "metadata": {},
   "outputs": [
    {
     "name": "stdout",
     "output_type": "stream",
     "text": [
      "2\n"
     ]
    }
   ],
   "source": [
    "# 5. Count how many apples in the basket\n",
    "print(basket.count('Apples'))"
   ]
  },
  {
   "cell_type": "code",
   "execution_count": 63,
   "id": "eca6b941-62e3-4838-a5e1-a64142aa0b9c",
   "metadata": {},
   "outputs": [
    {
     "name": "stdout",
     "output_type": "stream",
     "text": [
      "[]\n"
     ]
    }
   ],
   "source": [
    "# 6. empty the basket\n",
    "basket.clear()\n",
    "print(basket)"
   ]
  },
  {
   "cell_type": "code",
   "execution_count": 75,
   "id": "7fd8b8c4-91a9-4b3d-b5e4-5a5cdc60f7f0",
   "metadata": {},
   "outputs": [
    {
     "name": "stdout",
     "output_type": "stream",
     "text": [
      "['a', 'b', 'c', 'd', 'd', 'e', 'x']\n"
     ]
    }
   ],
   "source": [
    "basket = ['a','x','b','c','d','e','d']\n",
    "basket.sort()\n",
    "print(basket)"
   ]
  },
  {
   "cell_type": "code",
   "execution_count": 77,
   "id": "65bd9b1a-fcdf-4a9f-9af4-f6c1fa60a4c3",
   "metadata": {},
   "outputs": [
    {
     "name": "stdout",
     "output_type": "stream",
     "text": [
      "['a', 'b', 'c', 'd', 'd', 'e', 'x']\n",
      "['a', 'x', 'b', 'c', 'd', 'e', 'd']\n"
     ]
    }
   ],
   "source": [
    "basket = ['a','x','b','c','d','e','d']\n",
    "print(sorted(basket))\n",
    "print(basket)"
   ]
  },
  {
   "cell_type": "code",
   "execution_count": 79,
   "id": "34d41210-e594-4add-8c6d-955013d188c2",
   "metadata": {},
   "outputs": [
    {
     "name": "stdout",
     "output_type": "stream",
     "text": [
      "['a', 'b', 'c', 'd', 'd', 'e', 'x']\n",
      "['a', 'x', 'b', 'c', 'd', 'e', 'd']\n"
     ]
    }
   ],
   "source": [
    "basket = ['a','x','b','c','d','e','d']\n",
    "new_basket = basket[:]\n",
    "new_basket.sort()\n",
    "print(new_basket)\n",
    "print(basket)"
   ]
  },
  {
   "cell_type": "code",
   "execution_count": 81,
   "id": "713c741f-d6bb-443c-84bb-3665b955a528",
   "metadata": {},
   "outputs": [
    {
     "name": "stdout",
     "output_type": "stream",
     "text": [
      "['a', 'b', 'c', 'd', 'd', 'e', 'x']\n",
      "['a', 'x', 'b', 'c', 'd', 'e', 'd']\n"
     ]
    }
   ],
   "source": [
    "basket = ['a','x','b','c','d','e','d']\n",
    "new_basket = basket.copy()\n",
    "new_basket.sort()\n",
    "print(new_basket)\n",
    "print(basket)"
   ]
  },
  {
   "cell_type": "code",
   "execution_count": 83,
   "id": "702be885-56da-4257-b85f-ef0b3bbc401f",
   "metadata": {},
   "outputs": [
    {
     "name": "stdout",
     "output_type": "stream",
     "text": [
      "['d', 'e', 'd', 'c', 'b', 'x', 'a']\n"
     ]
    }
   ],
   "source": [
    "basket = ['a','x','b','c','d','e','d']\n",
    "basket.reverse()\n",
    "print(basket)"
   ]
  },
  {
   "cell_type": "code",
   "execution_count": 85,
   "id": "c3240041-4fe5-4eba-b5e2-d9eb8ae6f210",
   "metadata": {},
   "outputs": [
    {
     "name": "stdout",
     "output_type": "stream",
     "text": [
      "['x', 'e', 'd', 'd', 'c', 'b', 'a']\n"
     ]
    }
   ],
   "source": [
    "basket = ['a','x','b','c','d','e','d']\n",
    "basket.sort()\n",
    "basket.reverse()\n",
    "print(basket)"
   ]
  },
  {
   "cell_type": "code",
   "execution_count": 1,
   "id": "7be3fd17-5f68-428f-bfb3-26aa98f5c74d",
   "metadata": {},
   "outputs": [
    {
     "name": "stdout",
     "output_type": "stream",
     "text": [
      "7\n"
     ]
    }
   ],
   "source": [
    "basket = ['a','x','b','c','d','e','d']\n",
    "basket.sort()\n",
    "basket.reverse()\n",
    "print(len(basket))"
   ]
  },
  {
   "cell_type": "code",
   "execution_count": 3,
   "id": "6235dc62-7c7a-4dc9-b50a-630607b1e99c",
   "metadata": {},
   "outputs": [
    {
     "name": "stdout",
     "output_type": "stream",
     "text": [
      "['a', 'b', 'c', 'd', 'd', 'e', 'x']\n"
     ]
    }
   ],
   "source": [
    "basket = ['a','x','b','c','d','e','d']\n",
    "basket.sort()\n",
    "basket.reverse()\n",
    "print(basket[::-1])"
   ]
  },
  {
   "cell_type": "code",
   "execution_count": 5,
   "id": "8d0c0e33-11cd-481b-91a6-3f8c6f7c86d1",
   "metadata": {},
   "outputs": [
    {
     "data": {
      "text/plain": [
       "range(1, 100)"
      ]
     },
     "execution_count": 5,
     "metadata": {},
     "output_type": "execute_result"
    }
   ],
   "source": [
    "range(1,100)"
   ]
  },
  {
   "cell_type": "code",
   "execution_count": 7,
   "id": "5524aebf-d6fe-42fe-b747-4e22c9fda1e4",
   "metadata": {},
   "outputs": [
    {
     "name": "stdout",
     "output_type": "stream",
     "text": [
      "[1, 2, 3, 4, 5, 6, 7, 8, 9, 10, 11, 12, 13, 14, 15, 16, 17, 18, 19, 20, 21, 22, 23, 24, 25, 26, 27, 28, 29, 30, 31, 32, 33, 34, 35, 36, 37, 38, 39, 40, 41, 42, 43, 44, 45, 46, 47, 48, 49, 50, 51, 52, 53, 54, 55, 56, 57, 58, 59, 60, 61, 62, 63, 64, 65, 66, 67, 68, 69, 70, 71, 72, 73, 74, 75, 76, 77, 78, 79, 80, 81, 82, 83, 84, 85, 86, 87, 88, 89, 90, 91, 92, 93, 94, 95, 96, 97, 98, 99]\n"
     ]
    }
   ],
   "source": [
    "print(list(range(1,100)))"
   ]
  },
  {
   "cell_type": "code",
   "execution_count": 9,
   "id": "52d9214f-010b-4f39-b581-3fdffda4a027",
   "metadata": {},
   "outputs": [
    {
     "name": "stdout",
     "output_type": "stream",
     "text": [
      "[0, 1, 2, 3, 4, 5, 6, 7, 8, 9, 10, 11, 12, 13, 14, 15, 16, 17, 18, 19, 20, 21, 22, 23, 24, 25, 26, 27, 28, 29, 30, 31, 32, 33, 34, 35, 36, 37, 38, 39, 40, 41, 42, 43, 44, 45, 46, 47, 48, 49, 50, 51, 52, 53, 54, 55, 56, 57, 58, 59, 60, 61, 62, 63, 64, 65, 66, 67, 68, 69, 70, 71, 72, 73, 74, 75, 76, 77, 78, 79, 80, 81, 82, 83, 84, 85, 86, 87, 88, 89, 90, 91, 92, 93, 94, 95, 96, 97, 98, 99, 100]\n"
     ]
    }
   ],
   "source": [
    "print(list(range(101)))"
   ]
  },
  {
   "cell_type": "markdown",
   "id": "23ef2622-c5dc-4fc6-8d11-20504da3b9a7",
   "metadata": {},
   "source": [
    "# .Join"
   ]
  },
  {
   "cell_type": "code",
   "execution_count": 12,
   "id": "69c5fb9a-8c9c-4cbd-80dc-23a5df758e3c",
   "metadata": {},
   "outputs": [
    {
     "name": "stdout",
     "output_type": "stream",
     "text": [
      "hi!my!name!is!JOJO\n"
     ]
    }
   ],
   "source": [
    "sentence = '!'\n",
    "new_sentence = sentence.join(['hi','my','name','is','JOJO'])\n",
    "print(new_sentence)"
   ]
  },
  {
   "cell_type": "code",
   "execution_count": 14,
   "id": "885d6e48-f112-4103-b06b-e69b806aace2",
   "metadata": {},
   "outputs": [
    {
     "name": "stdout",
     "output_type": "stream",
     "text": [
      "hi my name is JOJO\n"
     ]
    }
   ],
   "source": [
    "sentence = ' '\n",
    "new_sentence = sentence.join(['hi','my','name','is','JOJO'])\n",
    "print(new_sentence)"
   ]
  },
  {
   "cell_type": "markdown",
   "id": "d3933aad-5243-4a2f-9697-5d03daf80cb3",
   "metadata": {},
   "source": [
    "# Exercise"
   ]
  },
  {
   "cell_type": "code",
   "execution_count": 17,
   "id": "86bae01d-eec5-45bd-88c5-a116a3912af6",
   "metadata": {},
   "outputs": [],
   "source": [
    "# fix the code \n",
    "# friends = ['Simon', 'Patty', 'Joy', 'Carrie', 'Amira', 'Chu']\n",
    "\n",
    "# new_friend = ['Stanley']\n",
    "\n",
    "# print(friends.sort() + new_friend)"
   ]
  },
  {
   "cell_type": "code",
   "execution_count": 27,
   "id": "22376d50-0dfa-4b07-9b40-bfc343e5a168",
   "metadata": {},
   "outputs": [
    {
     "name": "stdout",
     "output_type": "stream",
     "text": [
      "['Amira', 'Carrie', 'Chu', 'Joy', 'Patty', 'Simon', 'Stanley']\n"
     ]
    }
   ],
   "source": [
    "friends = ['Simon', 'Patty', 'Joy', 'Carrie', 'Amira', 'Chu']\n",
    "new_friend = ['Stanley']\n",
    "friends.append('Stanley')\n",
    "friends.sort()\n",
    "print(friends)\n",
    "#method 1"
   ]
  },
  {
   "cell_type": "code",
   "execution_count": 41,
   "id": "d6a6dbf8-3360-48a2-bb6b-5f98a9e24621",
   "metadata": {},
   "outputs": [
    {
     "name": "stdout",
     "output_type": "stream",
     "text": [
      "['Amira', 'Carrie', 'Chu', 'Joy', 'Patty', 'Simon', 'Stanley']\n"
     ]
    }
   ],
   "source": [
    "friends = ['Simon', 'Patty', 'Joy', 'Carrie', 'Amira', 'Chu']\n",
    "new_friend = ['Stanley']\n",
    "all_friends = friends + new_friend\n",
    "all_friends.sort()\n",
    "print(all_friends)\n",
    "#method 2"
   ]
  },
  {
   "cell_type": "code",
   "execution_count": 43,
   "id": "4fc6d1ef-55a8-450a-86f4-52c8691c7f85",
   "metadata": {},
   "outputs": [
    {
     "name": "stdout",
     "output_type": "stream",
     "text": [
      "['Amira', 'Carrie', 'Chu', 'Joy', 'Patty', 'Simon', 'Stanley']\n"
     ]
    }
   ],
   "source": [
    "friends = ['Simon', 'Patty', 'Joy', 'Carrie', 'Amira', 'Chu']\n",
    "new_friend = ['Stanley']\n",
    "friends.extend(new_friend)\n",
    "print(sorted(friends))"
   ]
  },
  {
   "cell_type": "markdown",
   "id": "a64aabda-3ba2-428e-95a0-e34a71ef8f3f",
   "metadata": {},
   "source": [
    "# List Unpacking"
   ]
  },
  {
   "cell_type": "code",
   "execution_count": 46,
   "id": "e7e2cda3-b634-4ed1-b1d1-3ca4ac3afef4",
   "metadata": {},
   "outputs": [
    {
     "name": "stdout",
     "output_type": "stream",
     "text": [
      "1\n",
      "2\n",
      "3\n"
     ]
    }
   ],
   "source": [
    "a,b,c = [1,2,3]\n",
    "print(a)\n",
    "print(b)\n",
    "print(c)"
   ]
  },
  {
   "cell_type": "code",
   "execution_count": 48,
   "id": "b2369668-c319-4769-b7d2-0168d3a73d44",
   "metadata": {},
   "outputs": [
    {
     "name": "stdout",
     "output_type": "stream",
     "text": [
      "1\n",
      "2\n",
      "3\n",
      "[4, 5, 6, 7, 8, 9]\n"
     ]
    }
   ],
   "source": [
    "a,b,c,*other = [1,2,3,4,5,6,7,8,9]\n",
    "print(a)\n",
    "print(b)\n",
    "print(c)\n",
    "print(other)"
   ]
  },
  {
   "cell_type": "code",
   "execution_count": 50,
   "id": "65a82e4d-76fe-44ce-a569-af623d5f0280",
   "metadata": {},
   "outputs": [
    {
     "name": "stdout",
     "output_type": "stream",
     "text": [
      "1\n",
      "2\n",
      "3\n",
      "[4, 5, 6, 7, 8]\n",
      "9\n"
     ]
    }
   ],
   "source": [
    "a,b,c,*other,d = [1,2,3,4,5,6,7,8,9]\n",
    "print(a)\n",
    "print(b)\n",
    "print(c)\n",
    "print(other)\n",
    "print(d)"
   ]
  },
  {
   "cell_type": "code",
   "execution_count": null,
   "id": "3e88f824-0746-4245-bdb5-cd42637ec417",
   "metadata": {},
   "outputs": [],
   "source": []
  }
 ],
 "metadata": {
  "kernelspec": {
   "display_name": "Python [conda env:base] *",
   "language": "python",
   "name": "conda-base-py"
  },
  "language_info": {
   "codemirror_mode": {
    "name": "ipython",
    "version": 3
   },
   "file_extension": ".py",
   "mimetype": "text/x-python",
   "name": "python",
   "nbconvert_exporter": "python",
   "pygments_lexer": "ipython3",
   "version": "3.12.7"
  }
 },
 "nbformat": 4,
 "nbformat_minor": 5
}

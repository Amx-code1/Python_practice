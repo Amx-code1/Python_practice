{
 "cells": [
  {
   "cell_type": "markdown",
   "id": "e267e938-9a40-4d56-bdc8-9147327be305",
   "metadata": {},
   "source": [
    "# Print Statement "
   ]
  },
  {
   "cell_type": "code",
   "execution_count": 5,
   "id": "2a0a4aa1-7794-4e99-b775-101fc9d8e351",
   "metadata": {},
   "outputs": [
    {
     "name": "stdout",
     "output_type": "stream",
     "text": [
      "aman\n"
     ]
    }
   ],
   "source": [
    "print('aman')"
   ]
  },
  {
   "cell_type": "raw",
   "id": "52010103-c13e-491e-8e91-984cba80044f",
   "metadata": {},
   "source": [
    "groot is a variable and its not defined "
   ]
  },
  {
   "cell_type": "code",
   "execution_count": 7,
   "id": "657e0a53-2bed-405a-a4a7-461b3f39c919",
   "metadata": {},
   "outputs": [
    {
     "ename": "NameError",
     "evalue": "name 'groot' is not defined",
     "output_type": "error",
     "traceback": [
      "\u001b[1;31m---------------------------------------------------------------------------\u001b[0m",
      "\u001b[1;31mNameError\u001b[0m                                 Traceback (most recent call last)",
      "Cell \u001b[1;32mIn[7], line 1\u001b[0m\n\u001b[1;32m----> 1\u001b[0m \u001b[38;5;28mprint\u001b[39m(groot)\n",
      "\u001b[1;31mNameError\u001b[0m: name 'groot' is not defined"
     ]
    }
   ],
   "source": [
    "print(groot)"
   ]
  },
  {
   "cell_type": "code",
   "execution_count": 9,
   "id": "dc6fae4b-4fc4-49df-8be9-6a2b2f4491a2",
   "metadata": {},
   "outputs": [
    {
     "name": "stdout",
     "output_type": "stream",
     "text": [
      "aman\n"
     ]
    }
   ],
   "source": [
    "print(\"aman\")"
   ]
  },
  {
   "cell_type": "code",
   "execution_count": 13,
   "id": "383dfc2d-45bf-4e64-94b0-c05c1f4fec49",
   "metadata": {},
   "outputs": [
    {
     "name": "stdout",
     "output_type": "stream",
     "text": [
      "aman\n"
     ]
    }
   ],
   "source": [
    "print(\"aman\")"
   ]
  },
  {
   "cell_type": "code",
   "execution_count": 15,
   "id": "a0a9b25f-bb77-4e03-acef-63fe67df1a0b",
   "metadata": {},
   "outputs": [
    {
     "name": "stdout",
     "output_type": "stream",
     "text": [
      "enter your name\n"
     ]
    }
   ],
   "source": [
    "print('enter your name')"
   ]
  },
  {
   "cell_type": "markdown",
   "id": "1186d3d8-73db-4cf8-b7d6-8601d9f2fb2a",
   "metadata": {},
   "source": [
    "# Input Function"
   ]
  },
  {
   "cell_type": "code",
   "execution_count": 20,
   "id": "9f7e6eaf-8937-4b01-abb5-3cf7f55477d2",
   "metadata": {},
   "outputs": [
    {
     "name": "stdin",
     "output_type": "stream",
     "text": [
      "enter your name aman\n"
     ]
    },
    {
     "name": "stdout",
     "output_type": "stream",
     "text": [
      "aman\n"
     ]
    }
   ],
   "source": [
    "print(input('enter your name'))"
   ]
  },
  {
   "cell_type": "code",
   "execution_count": 22,
   "id": "4d2b31dc-5331-4dca-8822-00d80c61a8af",
   "metadata": {},
   "outputs": [
    {
     "name": "stdin",
     "output_type": "stream",
     "text": [
      "enter username amxgame\n",
      "enter password agrjejsn\n"
     ]
    },
    {
     "data": {
      "text/plain": [
       "'agrjejsn'"
      ]
     },
     "execution_count": 22,
     "metadata": {},
     "output_type": "execute_result"
    }
   ],
   "source": [
    "input('enter username')\n",
    "input('enter password')"
   ]
  },
  {
   "cell_type": "markdown",
   "id": "91060834-ea63-45ea-846f-549598cda1e3",
   "metadata": {},
   "source": [
    "# Variable"
   ]
  },
  {
   "cell_type": "raw",
   "id": "b0ad596c-038c-49fd-96df-a240ef335bd4",
   "metadata": {},
   "source": [
    "numbers cant go in front part "
   ]
  },
  {
   "cell_type": "code",
   "execution_count": 28,
   "id": "a3636030-3461-4731-9219-5ba0f8dda620",
   "metadata": {},
   "outputs": [
    {
     "ename": "SyntaxError",
     "evalue": "invalid decimal literal (151995202.py, line 1)",
     "output_type": "error",
     "traceback": [
      "\u001b[1;36m  Cell \u001b[1;32mIn[28], line 1\u001b[1;36m\u001b[0m\n\u001b[1;33m    1x=45\u001b[0m\n\u001b[1;37m    ^\u001b[0m\n\u001b[1;31mSyntaxError\u001b[0m\u001b[1;31m:\u001b[0m invalid decimal literal\n"
     ]
    }
   ],
   "source": [
    "1x=45"
   ]
  },
  {
   "cell_type": "code",
   "execution_count": null,
   "id": "6e51f047-9620-4285-8027-372a5aaec99e",
   "metadata": {},
   "outputs": [],
   "source": []
  },
  {
   "cell_type": "code",
   "execution_count": 31,
   "id": "bce01b1a-93a2-4a00-a9a2-3f0d4cf30a8d",
   "metadata": {},
   "outputs": [
    {
     "name": "stdout",
     "output_type": "stream",
     "text": [
      "aman\n"
     ]
    }
   ],
   "source": [
    "_user = 'aman'\n",
    "print(_user)"
   ]
  },
  {
   "cell_type": "code",
   "execution_count": 33,
   "id": "3582c41a-e900-485e-84e7-6c637123c748",
   "metadata": {},
   "outputs": [
    {
     "name": "stdout",
     "output_type": "stream",
     "text": [
      "45\n"
     ]
    }
   ],
   "source": [
    "_x1=45\n",
    "print(_x1)"
   ]
  },
  {
   "cell_type": "code",
   "execution_count": 35,
   "id": "f4bf28fe-a7ff-4aef-89c6-d80524467c4b",
   "metadata": {},
   "outputs": [],
   "source": [
    "x_1 = 45"
   ]
  },
  {
   "cell_type": "code",
   "execution_count": 37,
   "id": "93fb167b-58cd-4efb-bca7-585dd1aaefb5",
   "metadata": {},
   "outputs": [
    {
     "name": "stdout",
     "output_type": "stream",
     "text": [
      "45\n"
     ]
    }
   ],
   "source": [
    "print(x_1)"
   ]
  },
  {
   "cell_type": "code",
   "execution_count": 39,
   "id": "c20fd78c-2447-4f2d-86a0-d5949e3e1b1f",
   "metadata": {},
   "outputs": [
    {
     "name": "stdout",
     "output_type": "stream",
     "text": [
      "45\n"
     ]
    }
   ],
   "source": [
    "x1_ = 45\n",
    "print(x1_)"
   ]
  },
  {
   "cell_type": "markdown",
   "id": "70f749c5-5c80-4e55-bd11-26a89ddb0d4e",
   "metadata": {},
   "source": [
    "# Datatypes"
   ]
  },
  {
   "cell_type": "code",
   "execution_count": null,
   "id": "4e26d46b-cceb-4dc9-be4b-cbf888a48d95",
   "metadata": {},
   "outputs": [],
   "source": [
    "1. int\n",
    "2. float\n",
    "3. bool\n",
    "4. string\n",
    "5. list\n",
    "6. tuple\n",
    "7. set\n",
    "8. dictionary"
   ]
  },
  {
   "cell_type": "markdown",
   "id": "b045885a-681e-4fb2-8441-d0f8ab4f76fb",
   "metadata": {},
   "source": [
    "# 1. int\n"
   ]
  },
  {
   "cell_type": "code",
   "execution_count": null,
   "id": "e0a7412d-31ef-40f7-a871-3ff00b9df735",
   "metadata": {},
   "outputs": [],
   "source": [
    "int stands for integer .it consists of integral value like 1 ,-1,0,4552 , -7887"
   ]
  },
  {
   "cell_type": "code",
   "execution_count": 45,
   "id": "0033968f-90bf-4c0f-8678-48ecd09c74ed",
   "metadata": {},
   "outputs": [
    {
     "name": "stdout",
     "output_type": "stream",
     "text": [
      "<class 'int'>\n"
     ]
    }
   ],
   "source": [
    "x =23\n",
    "print(type(x))"
   ]
  },
  {
   "cell_type": "code",
   "execution_count": 47,
   "id": "71f90205-caea-49a3-8dd4-45722f6d4e49",
   "metadata": {},
   "outputs": [
    {
     "name": "stdout",
     "output_type": "stream",
     "text": [
      "<class 'int'>\n"
     ]
    }
   ],
   "source": [
    "x = -89\n",
    "print(type(x))"
   ]
  },
  {
   "cell_type": "code",
   "execution_count": 51,
   "id": "9bb7bb73-b14d-418d-b989-9d6cc9a4435e",
   "metadata": {},
   "outputs": [
    {
     "name": "stdout",
     "output_type": "stream",
     "text": [
      "90\n",
      "<class 'int'>\n"
     ]
    }
   ],
   "source": [
    "x= 90\n",
    "print(x)\n",
    "print(type(x))"
   ]
  },
  {
   "cell_type": "markdown",
   "id": "053ca547-0466-48f9-9336-eb7be286b242",
   "metadata": {},
   "source": [
    "## float"
   ]
  },
  {
   "cell_type": "code",
   "execution_count": null,
   "id": "02713ca7-dbfe-4274-a4cd-06c2fa99ab40",
   "metadata": {},
   "outputs": [],
   "source": [
    "float stands for decimal value like 4.5,7.55,8.96354"
   ]
  },
  {
   "cell_type": "code",
   "execution_count": 54,
   "id": "18c65f35-4cfd-42ab-9a87-882a9bd6fc41",
   "metadata": {},
   "outputs": [
    {
     "name": "stdout",
     "output_type": "stream",
     "text": [
      "<class 'float'>\n"
     ]
    }
   ],
   "source": [
    "x= 8.63\n",
    "print(type(x))"
   ]
  },
  {
   "cell_type": "code",
   "execution_count": 56,
   "id": "c97b44c5-5bb2-4d65-a6c0-999cd4d7766d",
   "metadata": {},
   "outputs": [
    {
     "name": "stdout",
     "output_type": "stream",
     "text": [
      "9.0\n",
      "<class 'float'>\n"
     ]
    }
   ],
   "source": [
    "x= 9.0\n",
    "print(x)\n",
    "print(type(x))"
   ]
  },
  {
   "cell_type": "markdown",
   "id": "8b81ef17-1c71-42b9-926f-9ea742a47333",
   "metadata": {},
   "source": [
    "# Complex \n"
   ]
  },
  {
   "cell_type": "code",
   "execution_count": 67,
   "id": "663c54c6-2ab8-4db1-b169-b485f3ad01e7",
   "metadata": {},
   "outputs": [
    {
     "name": "stdout",
     "output_type": "stream",
     "text": [
      "(90+78j)\n"
     ]
    }
   ],
   "source": [
    "x= 90 + 78j\n",
    "print(x)\n",
    "# print(type(x))"
   ]
  },
  {
   "cell_type": "markdown",
   "id": "91e5d3d0-3df3-44e1-ac3b-99257cd47463",
   "metadata": {},
   "source": [
    "# Bool"
   ]
  },
  {
   "cell_type": "code",
   "execution_count": 74,
   "id": "7c339382-57d5-44c8-8ff1-b34a5a35abec",
   "metadata": {},
   "outputs": [
    {
     "name": "stdout",
     "output_type": "stream",
     "text": [
      "True\n",
      "<class 'bool'>\n"
     ]
    }
   ],
   "source": [
    "x = True\n",
    "print(x)\n",
    "print(type(x))"
   ]
  },
  {
   "cell_type": "code",
   "execution_count": 72,
   "id": "e4f96b40-1366-4cc2-8dde-deb7fd467f65",
   "metadata": {},
   "outputs": [
    {
     "name": "stdout",
     "output_type": "stream",
     "text": [
      "False\n"
     ]
    }
   ],
   "source": [
    "x =  False\n",
    "print(x)"
   ]
  },
  {
   "cell_type": "markdown",
   "id": "41ad7220-d182-41d0-82ff-9fa09b3fc6e9",
   "metadata": {},
   "source": [
    "# concept of variables "
   ]
  },
  {
   "cell_type": "code",
   "execution_count": 77,
   "id": "b3ede275-b36e-4015-9b4f-f36d8f74f2a6",
   "metadata": {},
   "outputs": [
    {
     "name": "stdout",
     "output_type": "stream",
     "text": [
      "aman\n",
      " married\n"
     ]
    }
   ],
   "source": [
    "name = 'aman'\n",
    "Name = 'lakshihaa'\n",
    "relationship = ' married'\n",
    "print(name)\n",
    "print(relationship)"
   ]
  },
  {
   "cell_type": "code",
   "execution_count": 79,
   "id": "1fcb2204-7393-48aa-9b60-b9ff0a6e4bdb",
   "metadata": {},
   "outputs": [
    {
     "name": "stdout",
     "output_type": "stream",
     "text": [
      "lakshihaa\n",
      " married\n"
     ]
    }
   ],
   "source": [
    "name = 'aman'\n",
    "Name = 'lakshihaa'\n",
    "relationship = ' married'\n",
    "print(Name)\n",
    "print(relationship)"
   ]
  },
  {
   "cell_type": "code",
   "execution_count": 81,
   "id": "ce555ab7-a87f-4b67-8a83-5728eb6961e1",
   "metadata": {},
   "outputs": [
    {
     "name": "stdout",
     "output_type": "stream",
     "text": [
      "kid\n"
     ]
    }
   ],
   "source": [
    "naMe = 'kid'\n",
    "print(naMe)"
   ]
  },
  {
   "cell_type": "markdown",
   "id": "e5cf02ad-59e6-4979-886e-6e56333407ab",
   "metadata": {},
   "source": [
    "# basic mathematics in python "
   ]
  },
  {
   "cell_type": "code",
   "execution_count": 110,
   "id": "5b6ba553-5f18-4d99-bbe9-dceb3ab0fb02",
   "metadata": {},
   "outputs": [
    {
     "name": "stdout",
     "output_type": "stream",
     "text": [
      "6\n"
     ]
    },
    {
     "data": {
      "text/plain": [
       "int"
      ]
     },
     "execution_count": 110,
     "metadata": {},
     "output_type": "execute_result"
    }
   ],
   "source": [
    "#addition\n",
    "(print(2+4))\n",
    "a= 6 \n",
    "type(a)"
   ]
  },
  {
   "cell_type": "code",
   "execution_count": 88,
   "id": "4faf277b-6f07-49f4-86ab-a9da104778da",
   "metadata": {},
   "outputs": [
    {
     "name": "stdout",
     "output_type": "stream",
     "text": [
      "17\n"
     ]
    }
   ],
   "source": [
    "print(8+9)"
   ]
  },
  {
   "cell_type": "code",
   "execution_count": 90,
   "id": "bfbf02ba-03d5-4eb4-a113-0eda4bd20c04",
   "metadata": {},
   "outputs": [
    {
     "name": "stdout",
     "output_type": "stream",
     "text": [
      "-1\n"
     ]
    }
   ],
   "source": [
    "#subtraction\n",
    "print(8-9)"
   ]
  },
  {
   "cell_type": "code",
   "execution_count": 92,
   "id": "a5deba4a-6874-4754-8825-652b21284af0",
   "metadata": {},
   "outputs": [
    {
     "name": "stdout",
     "output_type": "stream",
     "text": [
      "4972\n"
     ]
    }
   ],
   "source": [
    "print(5020-48)\n"
   ]
  },
  {
   "cell_type": "code",
   "execution_count": 94,
   "id": "971b8da8-e326-4574-b833-c50a8b21d487",
   "metadata": {},
   "outputs": [
    {
     "name": "stdout",
     "output_type": "stream",
     "text": [
      "20\n"
     ]
    }
   ],
   "source": [
    "#multiply\n",
    "print(4*5)\n"
   ]
  },
  {
   "cell_type": "code",
   "execution_count": 96,
   "id": "e74a874f-9132-40d6-ab25-283e9782cdf5",
   "metadata": {},
   "outputs": [
    {
     "name": "stdout",
     "output_type": "stream",
     "text": [
      "160\n"
     ]
    }
   ],
   "source": [
    "print(20*8)"
   ]
  },
  {
   "cell_type": "code",
   "execution_count": 100,
   "id": "18b77d36-5c36-4a45-9767-cad5eae1f760",
   "metadata": {},
   "outputs": [],
   "source": [
    "#division\n",
    "z= 8/7"
   ]
  },
  {
   "cell_type": "code",
   "execution_count": 102,
   "id": "a9fc22c3-f154-4e62-b9d2-98bd01bd5eca",
   "metadata": {},
   "outputs": [
    {
     "name": "stdout",
     "output_type": "stream",
     "text": [
      "1.1428571428571428\n"
     ]
    }
   ],
   "source": [
    "print(z)\n"
   ]
  },
  {
   "cell_type": "code",
   "execution_count": 106,
   "id": "41c71fc6-5114-4c52-9615-c276c7a2724c",
   "metadata": {},
   "outputs": [
    {
     "name": "stdout",
     "output_type": "stream",
     "text": [
      "1.1428571428571428\n"
     ]
    }
   ],
   "source": [
    "print(z)"
   ]
  },
  {
   "cell_type": "code",
   "execution_count": 108,
   "id": "024cf2fa-4e00-45f4-8029-a3e28a6db78b",
   "metadata": {},
   "outputs": [
    {
     "data": {
      "text/plain": [
       "float"
      ]
     },
     "execution_count": 108,
     "metadata": {},
     "output_type": "execute_result"
    }
   ],
   "source": [
    "type(z)"
   ]
  },
  {
   "cell_type": "code",
   "execution_count": 112,
   "id": "0f4c80d0-435d-461c-8e22-fb54314bb749",
   "metadata": {},
   "outputs": [
    {
     "name": "stdout",
     "output_type": "stream",
     "text": [
      "4\n"
     ]
    }
   ],
   "source": [
    "print(2**2) #exponential function"
   ]
  },
  {
   "cell_type": "code",
   "execution_count": 114,
   "id": "72577d0d-1f6b-4f54-9c01-236de383a586",
   "metadata": {},
   "outputs": [
    {
     "name": "stdout",
     "output_type": "stream",
     "text": [
      "16777216\n"
     ]
    }
   ],
   "source": [
    "print(8**8)"
   ]
  },
  {
   "cell_type": "code",
   "execution_count": 118,
   "id": "cb388d94-999f-4d24-87d4-2c732adb2733",
   "metadata": {},
   "outputs": [
    {
     "name": "stdout",
     "output_type": "stream",
     "text": [
      "81\n"
     ]
    }
   ],
   "source": [
    "print(3**4)"
   ]
  },
  {
   "cell_type": "code",
   "execution_count": 120,
   "id": "c9ea4d66-40bc-40d1-9a22-209a6e13f04c",
   "metadata": {},
   "outputs": [
    {
     "name": "stdout",
     "output_type": "stream",
     "text": [
      "2\n"
     ]
    }
   ],
   "source": [
    "#modulo %\n",
    "print(6%4) #remainder"
   ]
  },
  {
   "cell_type": "code",
   "execution_count": 122,
   "id": "0d4ee75a-50fe-4602-8f0b-b964a31b6c0d",
   "metadata": {},
   "outputs": [
    {
     "name": "stdout",
     "output_type": "stream",
     "text": [
      "3\n"
     ]
    }
   ],
   "source": [
    "print(7%4)"
   ]
  },
  {
   "cell_type": "code",
   "execution_count": 124,
   "id": "ca5ecd3b-010b-48cd-b9f2-c1e940baae7c",
   "metadata": {},
   "outputs": [
    {
     "name": "stdout",
     "output_type": "stream",
     "text": [
      "1.75\n"
     ]
    }
   ],
   "source": [
    "# # //  reduce return value to nearest integer \n",
    "# floor value \n",
    "\n",
    "print(7/4)"
   ]
  },
  {
   "cell_type": "code",
   "execution_count": 126,
   "id": "bee37093-33ec-46ad-8170-ea1d4a6a7d16",
   "metadata": {},
   "outputs": [
    {
     "name": "stdout",
     "output_type": "stream",
     "text": [
      "1\n"
     ]
    }
   ],
   "source": [
    "print(7//4)\n"
   ]
  },
  {
   "cell_type": "code",
   "execution_count": 128,
   "id": "7c59616d-0f55-4c0d-9880-28b615afe60b",
   "metadata": {},
   "outputs": [
    {
     "name": "stdout",
     "output_type": "stream",
     "text": [
      "34.64705882352941\n"
     ]
    }
   ],
   "source": [
    "print(589/17)\n"
   ]
  },
  {
   "cell_type": "code",
   "execution_count": null,
   "id": "709a19bb-2894-47d8-b262-d808d9d0ed57",
   "metadata": {},
   "outputs": [],
   "source": [
    "print(589//17)"
   ]
  }
 ],
 "metadata": {
  "kernelspec": {
   "display_name": "Python [conda env:base] *",
   "language": "python",
   "name": "conda-base-py"
  },
  "language_info": {
   "codemirror_mode": {
    "name": "ipython",
    "version": 3
   },
   "file_extension": ".py",
   "mimetype": "text/x-python",
   "name": "python",
   "nbconvert_exporter": "python",
   "pygments_lexer": "ipython3",
   "version": "3.12.7"
  }
 },
 "nbformat": 4,
 "nbformat_minor": 5
}

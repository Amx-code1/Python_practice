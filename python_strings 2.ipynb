{
 "cells": [
  {
   "cell_type": "markdown",
   "id": "6c00c3b1-e337-42e7-be27-da861ced24f3",
   "metadata": {},
   "source": [
    "# Immutability"
   ]
  },
  {
   "cell_type": "code",
   "execution_count": 2,
   "id": "2eb6f97c-2334-4150-b245-9e787b30cbf2",
   "metadata": {},
   "outputs": [
    {
     "name": "stdout",
     "output_type": "stream",
     "text": [
      "100\n"
     ]
    }
   ],
   "source": [
    "selfish = '01234567'\n",
    "selfish='100'\n",
    "print(selfish)"
   ]
  },
  {
   "cell_type": "code",
   "execution_count": 4,
   "id": "e47a1d5c-edbf-49ab-8fdd-3ac17b35e42f",
   "metadata": {},
   "outputs": [
    {
     "ename": "TypeError",
     "evalue": "'str' object does not support item assignment",
     "output_type": "error",
     "traceback": [
      "\u001b[1;31m---------------------------------------------------------------------------\u001b[0m",
      "\u001b[1;31mTypeError\u001b[0m                                 Traceback (most recent call last)",
      "Cell \u001b[1;32mIn[4], line 2\u001b[0m\n\u001b[0;32m      1\u001b[0m selfish \u001b[38;5;241m=\u001b[39m \u001b[38;5;124m'\u001b[39m\u001b[38;5;124m01234567\u001b[39m\u001b[38;5;124m'\u001b[39m\n\u001b[1;32m----> 2\u001b[0m selfish[\u001b[38;5;241m0\u001b[39m] \u001b[38;5;241m=\u001b[39m \u001b[38;5;124m'\u001b[39m\u001b[38;5;124m8\u001b[39m\u001b[38;5;124m'\u001b[39m\n\u001b[0;32m      3\u001b[0m \u001b[38;5;28mprint\u001b[39m(selfish)\n",
      "\u001b[1;31mTypeError\u001b[0m: 'str' object does not support item assignment"
     ]
    }
   ],
   "source": [
    "selfish = '01234567'\n",
    "selfish[0] = '8'\n",
    "print(selfish)"
   ]
  },
  {
   "cell_type": "markdown",
   "id": "9eb017c9-9a48-4430-89fe-e3e43c2eaf90",
   "metadata": {},
   "source": [
    "# Built-in Function"
   ]
  },
  {
   "cell_type": "code",
   "execution_count": 7,
   "id": "cb8fe3d0-4646-4cb8-9882-e13c52b3db45",
   "metadata": {},
   "outputs": [
    {
     "name": "stdout",
     "output_type": "stream",
     "text": [
      "9\n"
     ]
    }
   ],
   "source": [
    "print(len('hellloooo'))"
   ]
  },
  {
   "cell_type": "code",
   "execution_count": 9,
   "id": "de3b5bfe-68e3-4f01-a77b-36401c6283d7",
   "metadata": {},
   "outputs": [
    {
     "name": "stdout",
     "output_type": "stream",
     "text": [
      "hellloooo\n"
     ]
    }
   ],
   "source": [
    "greet = 'hellloooo'\n",
    "print(greet[0:len(greet)])"
   ]
  },
  {
   "cell_type": "markdown",
   "id": "48738c02-378d-4b85-977b-d3ea90189cbc",
   "metadata": {},
   "source": [
    "# Methods"
   ]
  },
  {
   "cell_type": "code",
   "execution_count": 22,
   "id": "3b365840-e683-4dac-891c-02a4cbdccd0c",
   "metadata": {},
   "outputs": [],
   "source": [
    "quote = 'to be or not to be'"
   ]
  },
  {
   "cell_type": "code",
   "execution_count": 24,
   "id": "7fe80d13-e3c9-435b-bc71-1edbb98b9916",
   "metadata": {},
   "outputs": [
    {
     "name": "stdout",
     "output_type": "stream",
     "text": [
      "TO BE OR NOT TO BE\n"
     ]
    }
   ],
   "source": [
    "print(quote.upper())"
   ]
  },
  {
   "cell_type": "code",
   "execution_count": 26,
   "id": "b60336a5-f3c5-49af-ae2d-42c6424f9ead",
   "metadata": {},
   "outputs": [
    {
     "name": "stdout",
     "output_type": "stream",
     "text": [
      "To be or not to be\n"
     ]
    }
   ],
   "source": [
    "print(quote.capitalize())"
   ]
  },
  {
   "cell_type": "code",
   "execution_count": 28,
   "id": "759a2132-3721-4d01-bec4-e41300431067",
   "metadata": {},
   "outputs": [
    {
     "name": "stdout",
     "output_type": "stream",
     "text": [
      "to be or not to be\n"
     ]
    }
   ],
   "source": [
    "print(quote.lower())"
   ]
  },
  {
   "cell_type": "code",
   "execution_count": 30,
   "id": "c07aee42-92fa-48bd-a02a-dc18ed08ea6b",
   "metadata": {},
   "outputs": [
    {
     "name": "stdout",
     "output_type": "stream",
     "text": [
      "3\n"
     ]
    }
   ],
   "source": [
    "print(quote.find('be'))"
   ]
  },
  {
   "cell_type": "code",
   "execution_count": 32,
   "id": "3b1c217c-f693-493e-a8c6-324ad08e587d",
   "metadata": {},
   "outputs": [
    {
     "name": "stdout",
     "output_type": "stream",
     "text": [
      "to me or not to me\n"
     ]
    }
   ],
   "source": [
    "quote = 'to be or not to be'\n",
    "print (quote.replace('be','me'))"
   ]
  },
  {
   "cell_type": "code",
   "execution_count": 34,
   "id": "f1b54db6-8610-49ac-b426-1f88b8238651",
   "metadata": {},
   "outputs": [
    {
     "name": "stdout",
     "output_type": "stream",
     "text": [
      "to me or not to me\n",
      "to be or not to be\n"
     ]
    }
   ],
   "source": [
    "quote = 'to be or not to be'\n",
    "print (quote.replace('be','me'))\n",
    "print(quote)"
   ]
  },
  {
   "cell_type": "code",
   "execution_count": 36,
   "id": "62437a1a-c9dd-4fd1-b317-6c81d3da64c3",
   "metadata": {},
   "outputs": [
    {
     "name": "stdout",
     "output_type": "stream",
     "text": [
      "to me or not to me\n",
      "to be or not to be\n"
     ]
    }
   ],
   "source": [
    "quote = 'to be or not to be'\n",
    "quote2 = quote.replace('be','me')\n",
    "print (quote2)\n",
    "print(quote)"
   ]
  },
  {
   "cell_type": "markdown",
   "id": "7ebdde12-9336-4324-a452-8aae0e532b1b",
   "metadata": {},
   "source": [
    "# Booleans"
   ]
  },
  {
   "cell_type": "code",
   "execution_count": 39,
   "id": "f5290a97-a071-4550-b1f5-fb1218f532bd",
   "metadata": {},
   "outputs": [],
   "source": [
    "name = 'aman'\n",
    "is_cool = False\n",
    "is_cool = True"
   ]
  },
  {
   "cell_type": "code",
   "execution_count": 41,
   "id": "13061ded-9fc3-46cc-9182-f6196b9a682d",
   "metadata": {},
   "outputs": [
    {
     "name": "stdout",
     "output_type": "stream",
     "text": [
      "True\n"
     ]
    }
   ],
   "source": [
    "print(bool(1))"
   ]
  },
  {
   "cell_type": "code",
   "execution_count": 43,
   "id": "6d819b3e-4eb7-4bb0-814f-eb5c5354f801",
   "metadata": {},
   "outputs": [
    {
     "name": "stdout",
     "output_type": "stream",
     "text": [
      "False\n"
     ]
    }
   ],
   "source": [
    " print(bool(0))"
   ]
  },
  {
   "cell_type": "code",
   "execution_count": 45,
   "id": "5b85e125-6ea9-42f6-995d-08499f95e252",
   "metadata": {},
   "outputs": [
    {
     "name": "stdout",
     "output_type": "stream",
     "text": [
      "True\n"
     ]
    }
   ],
   "source": [
    "print (bool('true'))"
   ]
  },
  {
   "cell_type": "markdown",
   "id": "a5a6c5a3-66aa-4795-b490-ef2a7cfa5baa",
   "metadata": {},
   "source": [
    "# Exercise"
   ]
  },
  {
   "cell_type": "code",
   "execution_count": 47,
   "id": "991f6a3e-0a38-4783-a20f-b7837664cd7d",
   "metadata": {},
   "outputs": [
    {
     "name": "stdout",
     "output_type": "stream",
     "text": [
      "it's complicated\n"
     ]
    }
   ],
   "source": [
    "name = 'Andrei Neagorie'\n",
    "age = 50\n",
    "relationship_status = 'single'\n",
    "relationship_status = 'it\\'s complicated'\n",
    "print (relationship_status)"
   ]
  },
  {
   "cell_type": "code",
   "execution_count": 58,
   "id": "d9d096d7-ac81-4841-aaeb-7f92327e8f03",
   "metadata": {},
   "outputs": [
    {
     "name": "stdin",
     "output_type": "stream",
     "text": [
      "what year were you born ? 1986\n"
     ]
    },
    {
     "name": "stdout",
     "output_type": "stream",
     "text": [
      "your age is : 50 .\n"
     ]
    }
   ],
   "source": [
    "birth_year = input('what year were you born ?')\n",
    "Age = 2025 - int(birth_year)\n",
    "print(f'your age is : {age} .')"
   ]
  },
  {
   "cell_type": "markdown",
   "id": "556a13c5-2cfb-493c-97ff-bea3c85e9188",
   "metadata": {},
   "source": [
    "# Commenting"
   ]
  },
  {
   "cell_type": "code",
   "execution_count": 61,
   "id": "0476face-d198-4744-b26a-21caaa93e19c",
   "metadata": {},
   "outputs": [
    {
     "name": "stdout",
     "output_type": "stream",
     "text": [
      "aman\n"
     ]
    }
   ],
   "source": [
    "# comment 1\n",
    "name = 'aman'\n",
    "print(name)"
   ]
  },
  {
   "cell_type": "code",
   "execution_count": 65,
   "id": "7b760075-9419-4d20-b8ae-417f008c8dcb",
   "metadata": {},
   "outputs": [],
   "source": [
    " # \"\"\"\n",
    " # love python \n",
    " # cutiepie\n",
    " # my bby\n",
    " # kiddo\n",
    " # \"\"\""
   ]
  },
  {
   "cell_type": "markdown",
   "id": "ba107b22-e314-4057-abfd-b6022515195c",
   "metadata": {},
   "source": [
    "# Password Cheaker\n"
   ]
  },
  {
   "cell_type": "code",
   "execution_count": 92,
   "id": "12dd6b00-39eb-4e6d-9a2a-80d33d9c4fba",
   "metadata": {},
   "outputs": [
    {
     "name": "stdin",
     "output_type": "stream",
     "text": [
      "Enter your username jayjay\n",
      "Enter your password secret\n"
     ]
    },
    {
     "name": "stdout",
     "output_type": "stream",
     "text": [
      "jayjay, your password ****** is 6 letters long.\n"
     ]
    }
   ],
   "source": [
    "user_name = input('Enter your username')\n",
    "password = input('Enter your password')\n",
    "letters = len(password)\n",
    "password1 ='*' * letters\n",
    "\n",
    "print(f'{user_name}, your password {password1} is {letters} letters long.')"
   ]
  },
  {
   "cell_type": "code",
   "execution_count": null,
   "id": "f590a430-84e8-46f2-ab78-6ab330bffed3",
   "metadata": {},
   "outputs": [],
   "source": []
  }
 ],
 "metadata": {
  "kernelspec": {
   "display_name": "Python [conda env:base] *",
   "language": "python",
   "name": "conda-base-py"
  },
  "language_info": {
   "codemirror_mode": {
    "name": "ipython",
    "version": 3
   },
   "file_extension": ".py",
   "mimetype": "text/x-python",
   "name": "python",
   "nbconvert_exporter": "python",
   "pygments_lexer": "ipython3",
   "version": "3.12.7"
  }
 },
 "nbformat": 4,
 "nbformat_minor": 5
}

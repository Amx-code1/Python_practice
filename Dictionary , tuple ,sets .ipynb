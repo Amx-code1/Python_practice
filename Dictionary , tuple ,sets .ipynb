{
 "cells": [
  {
   "cell_type": "markdown",
   "id": "ac0d8c7f-47ad-4a4e-9365-47a49e8642af",
   "metadata": {},
   "source": [
    "# Dictionary"
   ]
  },
  {
   "cell_type": "code",
   "execution_count": 5,
   "id": "7c506154-63aa-4965-b739-d235ecf9e35c",
   "metadata": {},
   "outputs": [
    {
     "name": "stdout",
     "output_type": "stream",
     "text": [
      "2\n"
     ]
    }
   ],
   "source": [
    "dictionary = {\n",
    "        'a' : 1,\n",
    "        'b' : 2\n",
    "}\n",
    "\n",
    "print(dictionary['b'])"
   ]
  },
  {
   "cell_type": "code",
   "execution_count": 7,
   "id": "7f5bfc59-5e29-4de6-99e9-57f5cad1124f",
   "metadata": {},
   "outputs": [
    {
     "ename": "KeyError",
     "evalue": "'c'",
     "output_type": "error",
     "traceback": [
      "\u001b[1;31m---------------------------------------------------------------------------\u001b[0m",
      "\u001b[1;31mKeyError\u001b[0m                                  Traceback (most recent call last)",
      "Cell \u001b[1;32mIn[7], line 6\u001b[0m\n\u001b[0;32m      1\u001b[0m dictionary \u001b[38;5;241m=\u001b[39m {\n\u001b[0;32m      2\u001b[0m         \u001b[38;5;124m'\u001b[39m\u001b[38;5;124ma\u001b[39m\u001b[38;5;124m'\u001b[39m : \u001b[38;5;241m1\u001b[39m,\n\u001b[0;32m      3\u001b[0m         \u001b[38;5;124m'\u001b[39m\u001b[38;5;124mb\u001b[39m\u001b[38;5;124m'\u001b[39m : \u001b[38;5;241m2\u001b[39m\n\u001b[0;32m      4\u001b[0m }\n\u001b[1;32m----> 6\u001b[0m \u001b[38;5;28mprint\u001b[39m(dictionary[\u001b[38;5;124m'\u001b[39m\u001b[38;5;124mc\u001b[39m\u001b[38;5;124m'\u001b[39m])\n",
      "\u001b[1;31mKeyError\u001b[0m: 'c'"
     ]
    }
   ],
   "source": [
    "dictionary = {\n",
    "        'a' : 1,\n",
    "        'b' : 2\n",
    "}\n",
    "\n",
    "print(dictionary['c'])"
   ]
  },
  {
   "cell_type": "code",
   "execution_count": 9,
   "id": "ff8f12b8-9b4f-4e5b-a65a-b22787915513",
   "metadata": {},
   "outputs": [
    {
     "name": "stdout",
     "output_type": "stream",
     "text": [
      "{'a': 1, 'b': 2, 'x': 3}\n"
     ]
    }
   ],
   "source": [
    "dictionary = {\n",
    "        'a' : 1,\n",
    "        'b' : 2 ,\n",
    "        'x' : 3\n",
    "}\n",
    "\n",
    "print(dictionary)"
   ]
  },
  {
   "cell_type": "code",
   "execution_count": 11,
   "id": "ead6758b-41ea-40e2-86e7-3cf2ff651274",
   "metadata": {},
   "outputs": [
    {
     "name": "stdout",
     "output_type": "stream",
     "text": [
      "[1, 2, 3]\n"
     ]
    }
   ],
   "source": [
    "dictionary = {\n",
    "        'a' : [1,2,3],\n",
    "        'b' : 'hello' ,\n",
    "        'x' : True\n",
    "}\n",
    "\n",
    "print(dictionary['a'])"
   ]
  },
  {
   "cell_type": "code",
   "execution_count": 13,
   "id": "c0296b5f-571e-4520-8886-b1a47367d911",
   "metadata": {},
   "outputs": [
    {
     "name": "stdout",
     "output_type": "stream",
     "text": [
      "2\n"
     ]
    }
   ],
   "source": [
    "dictionary = {\n",
    "        'a' : [1,2,3],\n",
    "        'b' : 'hello' ,\n",
    "        'x' : True\n",
    "}\n",
    "\n",
    "print(dictionary['a'][1])"
   ]
  },
  {
   "cell_type": "code",
   "execution_count": 15,
   "id": "28c6bbbd-6b6b-4027-8c57-73e8a22d64ec",
   "metadata": {},
   "outputs": [
    {
     "name": "stdout",
     "output_type": "stream",
     "text": [
      "[{'a': [1, 2, 3], 'b': 'hello', 'x': True}, {'a': [4, 5, 6], 'b': 'hello', 'x': True}]\n",
      "2\n"
     ]
    }
   ],
   "source": [
    "dictionary = {\n",
    "        'a' : [1,2,3],\n",
    "        'b' : 'hello' ,\n",
    "        'x' : True\n",
    "}\n",
    "my_list = [\n",
    "    {\n",
    "        'a' : [1,2,3],\n",
    "        'b' : 'hello' ,\n",
    "        'x' : True\n",
    "    },\n",
    "    {\n",
    "        'a' : [4,5,6],\n",
    "        'b' : 'hello' ,\n",
    "        'x' : True\n",
    "    }\n",
    "]\n",
    "    \n",
    "print(my_list)\n",
    "print(dictionary['a'][1])"
   ]
  },
  {
   "cell_type": "code",
   "execution_count": 17,
   "id": "87643baa-0485-4c7a-b1e4-9b54e164dba1",
   "metadata": {},
   "outputs": [
    {
     "name": "stdout",
     "output_type": "stream",
     "text": [
      "3\n",
      "2\n"
     ]
    }
   ],
   "source": [
    "dictionary = {\n",
    "        'a' : [1,2,3],\n",
    "        'b' : 'hello' ,\n",
    "        'x' : True\n",
    "}\n",
    "my_list = [\n",
    "    {\n",
    "        'a' : [1,2,3],\n",
    "        'b' : 'hello' ,\n",
    "        'x' : True\n",
    "    },\n",
    "    {\n",
    "        'a' : [4,5,6],\n",
    "        'b' : 'hello' ,\n",
    "        'x' : True\n",
    "    }\n",
    "]\n",
    "    \n",
    "print(my_list[0]['a'][2])\n",
    "print(dictionary['a'][1])"
   ]
  },
  {
   "cell_type": "code",
   "execution_count": 19,
   "id": "a06ba6de-08ed-4c9a-ba1b-f1a49a58e2ca",
   "metadata": {},
   "outputs": [
    {
     "name": "stdout",
     "output_type": "stream",
     "text": [
      "[1, 2, 3]\n"
     ]
    }
   ],
   "source": [
    "dictionary = {\n",
    "        123 : [1,2,3],\n",
    "        'b' : 'hello' ,\n",
    "        'x' : True\n",
    "}\n",
    "print(dictionary[123] )"
   ]
  },
  {
   "cell_type": "code",
   "execution_count": 21,
   "id": "70b727b3-cf13-4820-8c38-b2a15ed69b4a",
   "metadata": {},
   "outputs": [
    {
     "name": "stdout",
     "output_type": "stream",
     "text": [
      "hello\n"
     ]
    }
   ],
   "source": [
    "dictionary = {\n",
    "        123 : [1,2,3],\n",
    "        True : 'hello' ,\n",
    "        'x' : True\n",
    "}\n",
    "print(dictionary[True] )"
   ]
  },
  {
   "cell_type": "code",
   "execution_count": 23,
   "id": "0db23d77-1d4f-4469-89fb-9c0b8e278bdc",
   "metadata": {},
   "outputs": [
    {
     "ename": "TypeError",
     "evalue": "unhashable type: 'list'",
     "output_type": "error",
     "traceback": [
      "\u001b[1;31m---------------------------------------------------------------------------\u001b[0m",
      "\u001b[1;31mTypeError\u001b[0m                                 Traceback (most recent call last)",
      "Cell \u001b[1;32mIn[23], line 1\u001b[0m\n\u001b[1;32m----> 1\u001b[0m dictionary \u001b[38;5;241m=\u001b[39m {\n\u001b[0;32m      2\u001b[0m         \u001b[38;5;241m123\u001b[39m : [\u001b[38;5;241m1\u001b[39m,\u001b[38;5;241m2\u001b[39m,\u001b[38;5;241m3\u001b[39m],\n\u001b[0;32m      3\u001b[0m         \u001b[38;5;28;01mTrue\u001b[39;00m : \u001b[38;5;124m'\u001b[39m\u001b[38;5;124mhello\u001b[39m\u001b[38;5;124m'\u001b[39m ,\n\u001b[0;32m      4\u001b[0m         [\u001b[38;5;241m100\u001b[39m] : \u001b[38;5;28;01mTrue\u001b[39;00m\n\u001b[0;32m      5\u001b[0m }\n\u001b[0;32m      6\u001b[0m \u001b[38;5;28mprint\u001b[39m(dictionary[\u001b[38;5;241m100\u001b[39m] )\n",
      "\u001b[1;31mTypeError\u001b[0m: unhashable type: 'list'"
     ]
    }
   ],
   "source": [
    "dictionary = {\n",
    "        123 : [1,2,3],\n",
    "        True : 'hello' ,\n",
    "        [100] : True\n",
    "}\n",
    "print(dictionary[100] )"
   ]
  },
  {
   "cell_type": "code",
   "execution_count": 25,
   "id": "22c8ba31-9f84-49e0-a2dc-6752ec22d262",
   "metadata": {},
   "outputs": [
    {
     "name": "stdout",
     "output_type": "stream",
     "text": [
      "hello\n"
     ]
    }
   ],
   "source": [
    "dictionary = {\n",
    "        '123' : [1,2,3],\n",
    "        '123' : 'hello' \n",
    "}\n",
    "print(dictionary['123'] )"
   ]
  },
  {
   "cell_type": "code",
   "execution_count": 31,
   "id": "c7b30d5e-fba3-42d5-b7fa-adbbe35e54fd",
   "metadata": {},
   "outputs": [
    {
     "name": "stdout",
     "output_type": "stream",
     "text": [
      "[1, 2, 3]\n"
     ]
    }
   ],
   "source": [
    "  dictionary = {\n",
    "        'basket' : [1,2,3],\n",
    "        'groot' : 'hello' \n",
    "}\n",
    "print(dictionary['basket'] )"
   ]
  },
  {
   "cell_type": "code",
   "execution_count": 33,
   "id": "037df4bb-3149-422d-b9ca-0d58337ed46c",
   "metadata": {},
   "outputs": [
    {
     "ename": "KeyError",
     "evalue": "'age'",
     "output_type": "error",
     "traceback": [
      "\u001b[1;31m---------------------------------------------------------------------------\u001b[0m",
      "\u001b[1;31mKeyError\u001b[0m                                  Traceback (most recent call last)",
      "Cell \u001b[1;32mIn[33], line 5\u001b[0m\n\u001b[0;32m      1\u001b[0m user \u001b[38;5;241m=\u001b[39m {\n\u001b[0;32m      2\u001b[0m       \u001b[38;5;124m'\u001b[39m\u001b[38;5;124mbasket\u001b[39m\u001b[38;5;124m'\u001b[39m : [\u001b[38;5;241m1\u001b[39m,\u001b[38;5;241m2\u001b[39m,\u001b[38;5;241m3\u001b[39m],\n\u001b[0;32m      3\u001b[0m       \u001b[38;5;124m'\u001b[39m\u001b[38;5;124mgroot\u001b[39m\u001b[38;5;124m'\u001b[39m : \u001b[38;5;124m'\u001b[39m\u001b[38;5;124mhello\u001b[39m\u001b[38;5;124m'\u001b[39m \n\u001b[0;32m      4\u001b[0m }\n\u001b[1;32m----> 5\u001b[0m \u001b[38;5;28mprint\u001b[39m(user[\u001b[38;5;124m'\u001b[39m\u001b[38;5;124mage\u001b[39m\u001b[38;5;124m'\u001b[39m] )\n",
      "\u001b[1;31mKeyError\u001b[0m: 'age'"
     ]
    }
   ],
   "source": [
    "  user = {\n",
    "        'basket' : [1,2,3],\n",
    "        'groot' : 'hello' \n",
    "}\n",
    "print(user['age'] )"
   ]
  },
  {
   "cell_type": "code",
   "execution_count": 37,
   "id": "b687b393-e82f-4a34-9821-9214a16468b9",
   "metadata": {},
   "outputs": [
    {
     "name": "stdout",
     "output_type": "stream",
     "text": [
      "None\n"
     ]
    }
   ],
   "source": [
    "  user = {\n",
    "        'basket' : [1,2,3],\n",
    "        'groot' : 'hello' \n",
    "}\n",
    "print(user.get('age'))"
   ]
  },
  {
   "cell_type": "code",
   "execution_count": 39,
   "id": "273b5fc1-e368-48f9-b520-54b1f9ce3e03",
   "metadata": {},
   "outputs": [
    {
     "name": "stdout",
     "output_type": "stream",
     "text": [
      "55\n"
     ]
    }
   ],
   "source": [
    "  user = {\n",
    "        'basket' : [1,2,3],\n",
    "        'groot' : 'hello' \n",
    "}\n",
    "print(user.get('age',55))"
   ]
  },
  {
   "cell_type": "code",
   "execution_count": 43,
   "id": "d83dd448-8fbc-466b-a3b2-a42c980b6358",
   "metadata": {},
   "outputs": [
    {
     "name": "stdout",
     "output_type": "stream",
     "text": [
      "20\n"
     ]
    }
   ],
   "source": [
    "  user = {\n",
    "        'basket' : [1,2,3],\n",
    "        'groot' : 'hello',\n",
    "        'age' : 20\n",
    "}\n",
    "print(user.get('age',55))"
   ]
  },
  {
   "cell_type": "code",
   "execution_count": 47,
   "id": "2ab1e46c-93a2-40a1-86f6-ef4b78037708",
   "metadata": {},
   "outputs": [
    {
     "name": "stdout",
     "output_type": "stream",
     "text": [
      "{'name': 'JohnJohn'}\n"
     ]
    }
   ],
   "source": [
    "user = {\n",
    "        'basket' : [1,2,3],\n",
    "        'groot' : 'hello',\n",
    "        'age' : 20\n",
    "}\n",
    "user2 = dict(name = 'JohnJohn')\n",
    "print(user2)"
   ]
  },
  {
   "cell_type": "code",
   "execution_count": 2,
   "id": "e2dc8cee-e9d8-4d5a-9159-1e7a04b6cfe1",
   "metadata": {},
   "outputs": [
    {
     "name": "stdout",
     "output_type": "stream",
     "text": [
      "True\n"
     ]
    }
   ],
   "source": [
    "user = {\n",
    "        'basket' : [1,2,3],\n",
    "        'groot' : 'hello',\n",
    "        'age' : 20\n",
    "}\n",
    "\n",
    "print('basket' in user)"
   ]
  },
  {
   "cell_type": "code",
   "execution_count": 4,
   "id": "d238c273-3c9a-4736-87c6-f55dd249a191",
   "metadata": {},
   "outputs": [
    {
     "name": "stdout",
     "output_type": "stream",
     "text": [
      "False\n"
     ]
    }
   ],
   "source": [
    "print('size' in user)"
   ]
  },
  {
   "cell_type": "code",
   "execution_count": 6,
   "id": "9cafc502-ca7f-4d7b-b18b-baed82b265a7",
   "metadata": {},
   "outputs": [
    {
     "name": "stdout",
     "output_type": "stream",
     "text": [
      "True\n"
     ]
    }
   ],
   "source": [
    "user = {\n",
    "        'basket' : [1,2,3],\n",
    "        'groot' : 'hello',\n",
    "        'age' : 20\n",
    "}\n",
    "\n",
    "print('basket' in user.keys())"
   ]
  },
  {
   "cell_type": "code",
   "execution_count": 8,
   "id": "4a2b1199-c5d6-4262-ba26-23a84aa392dd",
   "metadata": {},
   "outputs": [
    {
     "name": "stdout",
     "output_type": "stream",
     "text": [
      "True\n"
     ]
    }
   ],
   "source": [
    "user = {\n",
    "        'basket' : [1,2,3],\n",
    "        'groot' : 'hello',\n",
    "        'age' : 20\n",
    "}\n",
    "\n",
    "print('age' in user.keys())"
   ]
  },
  {
   "cell_type": "code",
   "execution_count": 10,
   "id": "70e3b5d7-9287-4ba2-8bae-19fc1657c91a",
   "metadata": {},
   "outputs": [
    {
     "name": "stdout",
     "output_type": "stream",
     "text": [
      "True\n"
     ]
    }
   ],
   "source": [
    "user = {\n",
    "        'basket' : [1,2,3],\n",
    "        'groot' : 'hello',\n",
    "        'age' : 20\n",
    "}\n",
    "\n",
    "print('hello' in user.values())"
   ]
  },
  {
   "cell_type": "code",
   "execution_count": 12,
   "id": "e4b3f252-e73b-4d1d-85d2-09e3d2e0b114",
   "metadata": {},
   "outputs": [
    {
     "name": "stdout",
     "output_type": "stream",
     "text": [
      "dict_items([('basket', [1, 2, 3]), ('groot', 'hello'), ('age', 20)])\n"
     ]
    }
   ],
   "source": [
    "user = {\n",
    "        'basket' : [1,2,3],\n",
    "        'groot' : 'hello',\n",
    "        'age' : 20\n",
    "}\n",
    "\n",
    "print(user.items())"
   ]
  },
  {
   "cell_type": "code",
   "execution_count": 14,
   "id": "3d006e10-7ba6-46d2-b01e-36c9e792df66",
   "metadata": {},
   "outputs": [
    {
     "name": "stdout",
     "output_type": "stream",
     "text": [
      "None\n"
     ]
    }
   ],
   "source": [
    "user = {\n",
    "        'basket' : [1,2,3],\n",
    "        'groot' : 'hello',\n",
    "        'age' : 20\n",
    "}\n",
    "\n",
    "print(user.clear())"
   ]
  },
  {
   "cell_type": "code",
   "execution_count": 16,
   "id": "8d9a2d67-17cd-4cff-85a8-8f1182122959",
   "metadata": {},
   "outputs": [
    {
     "name": "stdout",
     "output_type": "stream",
     "text": [
      "{}\n"
     ]
    }
   ],
   "source": [
    "user = {\n",
    "        'basket' : [1,2,3],\n",
    "        'groot' : 'hello',\n",
    "        'age' : 20\n",
    "}\n",
    "user.clear()\n",
    "print(user)"
   ]
  },
  {
   "cell_type": "code",
   "execution_count": 18,
   "id": "18777408-76b4-41a6-a58b-4d062dd80fea",
   "metadata": {},
   "outputs": [
    {
     "name": "stdout",
     "output_type": "stream",
     "text": [
      "{'basket': [1, 2, 3], 'groot': 'hello', 'age': 20}\n",
      "{'basket': [1, 2, 3], 'groot': 'hello', 'age': 20}\n"
     ]
    }
   ],
   "source": [
    "user = {\n",
    "        'basket' : [1,2,3],\n",
    "        'groot' : 'hello',\n",
    "        'age' : 20\n",
    "}\n",
    "user2 = user.copy()\n",
    "print(user2)\n",
    "print(user) "
   ]
  },
  {
   "cell_type": "code",
   "execution_count": 20,
   "id": "1a2e4d7a-4754-49bb-92ef-90d8484320ab",
   "metadata": {},
   "outputs": [
    {
     "name": "stdout",
     "output_type": "stream",
     "text": [
      "{'basket': [1, 2, 3], 'groot': 'hello', 'age': 20}\n",
      "None\n"
     ]
    }
   ],
   "source": [
    "user = {\n",
    "        'basket' : [1,2,3],\n",
    "        'groot' : 'hello',\n",
    "        'age' : 20\n",
    "}\n",
    "user2 = user.copy()\n",
    "print(user2)\n",
    "print(user.clear()) "
   ]
  },
  {
   "cell_type": "code",
   "execution_count": 22,
   "id": "eee1659e-46fd-4d1c-b01d-cfb74e63de47",
   "metadata": {},
   "outputs": [
    {
     "name": "stdout",
     "output_type": "stream",
     "text": [
      "20\n"
     ]
    }
   ],
   "source": [
    "user = {\n",
    "        'basket' : [1,2,3],\n",
    "        'groot' : 'hello',\n",
    "        'age' : 20\n",
    "}\n",
    "print(user.pop('age')) "
   ]
  },
  {
   "cell_type": "code",
   "execution_count": 24,
   "id": "fae72a1f-45d3-4d7f-a09e-04444c59c8ea",
   "metadata": {},
   "outputs": [
    {
     "name": "stdout",
     "output_type": "stream",
     "text": [
      "{'basket': [1, 2, 3], 'groot': 'hello'}\n"
     ]
    }
   ],
   "source": [
    "print(user)"
   ]
  },
  {
   "cell_type": "code",
   "execution_count": 26,
   "id": "c6171a0a-3258-45cb-b0bc-c290e04c6837",
   "metadata": {},
   "outputs": [
    {
     "name": "stdout",
     "output_type": "stream",
     "text": [
      "('age', 20)\n",
      "{'basket': [1, 2, 3], 'groot': 'hello'}\n"
     ]
    }
   ],
   "source": [
    " user = {\n",
    "        'basket' : [1,2,3],\n",
    "        'groot' : 'hello',\n",
    "        'age' : 20\n",
    "}\n",
    "print(user.popitem())\n",
    "print(user)"
   ]
  },
  {
   "cell_type": "code",
   "execution_count": 28,
   "id": "71f3fec6-5fc5-49f5-bc56-b71d23d5b83f",
   "metadata": {},
   "outputs": [
    {
     "name": "stdout",
     "output_type": "stream",
     "text": [
      "None\n",
      "{'basket': [1, 2, 3], 'groot': 'hello', 'age': 55}\n"
     ]
    }
   ],
   "source": [
    "  user = {\n",
    "        'basket' : [1,2,3],\n",
    "        'groot' : 'hello',\n",
    "        'age' : 20\n",
    "}\n",
    "print(user.update({'age':55}))\n",
    "print(user)"
   ]
  },
  {
   "cell_type": "code",
   "execution_count": 30,
   "id": "b9edfa81-6603-441e-8c42-66e171adbdb9",
   "metadata": {},
   "outputs": [
    {
     "name": "stdout",
     "output_type": "stream",
     "text": [
      "None\n",
      "{'basket': [1, 2, 3], 'groot': 'hello', 'age': 20, 'ages': 55}\n"
     ]
    }
   ],
   "source": [
    "  user = {\n",
    "        'basket' : [1,2,3],\n",
    "        'groot' : 'hello',\n",
    "        'age' : 20\n",
    "}\n",
    "print(user.update({'ages':55}))\n",
    "print(user)"
   ]
  },
  {
   "cell_type": "markdown",
   "id": "5c9e8435-6861-44be-9fbe-72d30a1b87cb",
   "metadata": {},
   "source": [
    "# Exercise"
   ]
  },
  {
   "cell_type": "code",
   "execution_count": 33,
   "id": "02f32495-2d55-4534-bd29-b1f058249caa",
   "metadata": {},
   "outputs": [],
   "source": [
    "# Exercise Dictionary Methods\n",
    "# Scroll to see answers.\n",
    "\n",
    "# 1 Create a user profile for your new game.\n",
    "# This user profile will be stored in a dictionary with keys: 'age', 'username', 'weapons', 'is_active' and 'clan'\n",
    "\n",
    "# 2 iterate and print all the keys in the above user.\n",
    "\n",
    "# 3 Add a new weapon to your user\n",
    "\n",
    "# 4 Add a new key to include 'is_banned'. Set it to false\n",
    "\n",
    "# 5 Ban the user by setting the previous key to True\n",
    "\n",
    "# 6 create a new user2 my copying the previous user and update the age value and username value.\n"
   ]
  },
  {
   "cell_type": "code",
   "execution_count": 73,
   "id": "d4a3e8eb-21e6-421f-91a7-61626d678a9b",
   "metadata": {},
   "outputs": [],
   "source": [
    "# 1 Create a user profile for your new game.\n",
    "# This user profile will be stored in a dictionary with keys: 'age', 'username', 'weapons', 'is_active' and 'clan'"
   ]
  },
  {
   "cell_type": "code",
   "execution_count": 89,
   "id": "aad42f63-8c95-46b9-ad34-6380f02d36c0",
   "metadata": {},
   "outputs": [],
   "source": [
    "user_profile = {\n",
    "    'age' : 15,\n",
    "    'username' : 'amxcode',\n",
    "    'weapons' : None,\n",
    "    'is_active' : False,\n",
    "    'clan' : None\n",
    "}"
   ]
  },
  {
   "cell_type": "code",
   "execution_count": 91,
   "id": "c08441f5-a5b0-4045-97d9-76535ceb87c6",
   "metadata": {},
   "outputs": [],
   "source": [
    "# 2 iterate and print all the keys in the above user."
   ]
  },
  {
   "cell_type": "code",
   "execution_count": 93,
   "id": "54a519a3-0b45-44e0-84c5-8b44f613f5ec",
   "metadata": {},
   "outputs": [
    {
     "name": "stdout",
     "output_type": "stream",
     "text": [
      "dict_keys(['age', 'username', 'weapons', 'is_active', 'clan'])\n"
     ]
    }
   ],
   "source": [
    "print(user_profile.keys())"
   ]
  },
  {
   "cell_type": "code",
   "execution_count": 95,
   "id": "31efa5a8-fbf2-436d-8130-79c1d454c976",
   "metadata": {},
   "outputs": [],
   "source": [
    "# 3 Add a new weapon to your user"
   ]
  },
  {
   "cell_type": "code",
   "execution_count": 99,
   "id": "e1660434-1884-4bc3-afc7-ba77892f027d",
   "metadata": {},
   "outputs": [
    {
     "name": "stdout",
     "output_type": "stream",
     "text": [
      "{'age': 15, 'username': 'amxcode', 'weapons': 'katana', 'is_active': False, 'clan': None}\n"
     ]
    }
   ],
   "source": [
    "user_profile['weapons'] = 'katana'\n",
    "print(user_profile)"
   ]
  },
  {
   "cell_type": "code",
   "execution_count": 101,
   "id": "9f0aea2c-112c-4c2c-90c8-1be4c82e17c3",
   "metadata": {},
   "outputs": [],
   "source": [
    "# 4 Add a new key to include 'is_banned'. Set it to false"
   ]
  },
  {
   "cell_type": "code",
   "execution_count": 107,
   "id": "4b9044a3-8a0d-4625-9b75-57761827c06a",
   "metadata": {},
   "outputs": [
    {
     "name": "stdout",
     "output_type": "stream",
     "text": [
      "{'age': 15, 'username': 'amxcode', 'weapons': 'katana', 'is_active': False, 'clan': None, 'is_banned': False}\n"
     ]
    }
   ],
   "source": [
    "user_profile.update({'is_banned':False})\n",
    "print(user_profile)"
   ]
  },
  {
   "cell_type": "code",
   "execution_count": 65,
   "id": "e65ec257-1f25-44a1-b3f5-7842f01ae340",
   "metadata": {},
   "outputs": [],
   "source": [
    "# 5 Ban the user by setting the previous key to True"
   ]
  },
  {
   "cell_type": "code",
   "execution_count": 111,
   "id": "5735231d-c32e-446d-80b6-70507c64fc29",
   "metadata": {},
   "outputs": [
    {
     "name": "stdout",
     "output_type": "stream",
     "text": [
      "{'age': 15, 'username': 'amxcode', 'weapons': 'katana', 'is_active': False, 'clan': None, 'is_banned': True}\n"
     ]
    }
   ],
   "source": [
    "user_profile.update({'is_banned':True})\n",
    "print(user_profile)"
   ]
  },
  {
   "cell_type": "code",
   "execution_count": 113,
   "id": "e6b4490a-ead3-4ea8-a700-5f06b93176d3",
   "metadata": {},
   "outputs": [
    {
     "name": "stdout",
     "output_type": "stream",
     "text": [
      "{'age': 15, 'username': 'amxcode', 'weapons': 'katana', 'is_active': False, 'clan': None, 'is_banned': True}\n"
     ]
    }
   ],
   "source": [
    "user_profile['is_banned']  = True\n",
    "print(user_profile)"
   ]
  },
  {
   "cell_type": "code",
   "execution_count": 115,
   "id": "9aa1bc62-ecda-4af6-b383-eee6f724c789",
   "metadata": {},
   "outputs": [],
   "source": [
    "# 6 create a new user2 my copying the previous user and update the age value and username value.\n"
   ]
  },
  {
   "cell_type": "code",
   "execution_count": 117,
   "id": "f92857e1-15ef-4f3a-b509-4d67b6c54022",
   "metadata": {},
   "outputs": [
    {
     "name": "stdout",
     "output_type": "stream",
     "text": [
      "{'age': 15, 'username': 'amxcode', 'weapons': 'katana', 'is_active': False, 'clan': None, 'is_banned': True}\n"
     ]
    }
   ],
   "source": [
    "user2 = user_profile.copy()\n",
    "print(user2)"
   ]
  },
  {
   "cell_type": "code",
   "execution_count": 121,
   "id": "cf33c5a2-b255-4da0-bcbd-aeb101b2b039",
   "metadata": {},
   "outputs": [
    {
     "name": "stdout",
     "output_type": "stream",
     "text": [
      "{'age': 15, 'username': 'amxcode', 'weapons': 'katana', 'is_active': False, 'clan': None, 'is_banned': True}\n",
      "{'age': 24, 'username': 'ymx', 'weapons': 'katana', 'is_active': False, 'clan': None, 'is_banned': True}\n"
     ]
    }
   ],
   "source": [
    "user2['age'] = 24\n",
    "user2['username'] = 'ymx'\n",
    "print(user_profile)\n",
    "print(user2)"
   ]
  },
  {
   "cell_type": "code",
   "execution_count": 123,
   "id": "eef4bd59-546a-495d-9ced-1ce4c81a2a7e",
   "metadata": {},
   "outputs": [
    {
     "name": "stdout",
     "output_type": "stream",
     "text": [
      "dict_keys(['age', 'username', 'weapons', 'is_active', 'clan'])\n",
      "{'age': 0, 'username': ' ', 'weapons': 'Katana', 'is_active': False, 'clan': None, 'is_banned': True}\n",
      "{'age': 50, 'username': 'User2', 'weapons': 'Katana', 'is_active': False, 'clan': None, 'is_banned': True}\n"
     ]
    }
   ],
   "source": [
    "\n",
    "#ANSWERS BELOW:\n",
    "\n",
    "# 1 Create a user profile for your new game.\n",
    "# This user profile will be stored in a dictionary with keys: 'age', 'username', 'weapons', 'is_active' and 'clan'\n",
    "user_profile = {\n",
    "    'age': 0,\n",
    "    'username': ' ',\n",
    "    'weapons': None,\n",
    "    'is_active': False,\n",
    "    'clan': None\n",
    "}\n",
    "\n",
    "# 2 iterate and print all the keys in the above user.\n",
    "print(user_profile.keys())\n",
    "\n",
    "# 3 Add a new weapon to your user\n",
    "user_profile['weapons'] = 'Katana'\n",
    "\n",
    "# 4 Add a new key to include 'is_banned'. Set it to false\n",
    "user_profile.update({'is_banned': False})\n",
    "\n",
    "# 5 Ban the user by setting the previous key to True\n",
    "user_profile['is_banned'] = True\n",
    "\n",
    "# 6 create a new user2 my copying the previous user and update the age value and username value.\n",
    "user2 = user_profile.copy()\n",
    "user2.update({'age': 50, 'username': 'User2'})\n",
    "print(user_profile)\n",
    "print(user2)\n"
   ]
  },
  {
   "cell_type": "markdown",
   "id": "65bb8752-cdf1-4067-8776-0c56761b33d4",
   "metadata": {},
   "source": [
    "# Tuple"
   ]
  },
  {
   "cell_type": "code",
   "execution_count": 126,
   "id": "6cf31fcc-218a-493c-8a93-8705f606807f",
   "metadata": {},
   "outputs": [
    {
     "ename": "TypeError",
     "evalue": "'tuple' object does not support item assignment",
     "output_type": "error",
     "traceback": [
      "\u001b[1;31m---------------------------------------------------------------------------\u001b[0m",
      "\u001b[1;31mTypeError\u001b[0m                                 Traceback (most recent call last)",
      "Cell \u001b[1;32mIn[126], line 2\u001b[0m\n\u001b[0;32m      1\u001b[0m my_tuple \u001b[38;5;241m=\u001b[39m (\u001b[38;5;241m1\u001b[39m,\u001b[38;5;241m2\u001b[39m,\u001b[38;5;241m3\u001b[39m,\u001b[38;5;241m4\u001b[39m,\u001b[38;5;241m5\u001b[39m)\n\u001b[1;32m----> 2\u001b[0m my_tuple[\u001b[38;5;241m1\u001b[39m] \u001b[38;5;241m=\u001b[39m \u001b[38;5;124m'\u001b[39m\u001b[38;5;124mz\u001b[39m\u001b[38;5;124m'\u001b[39m\n",
      "\u001b[1;31mTypeError\u001b[0m: 'tuple' object does not support item assignment"
     ]
    }
   ],
   "source": [
    "my_tuple = (1,2,3,4,5)\n",
    "my_tuple[1] = 'z'"
   ]
  },
  {
   "cell_type": "code",
   "execution_count": 128,
   "id": "144f0811-29d2-4091-9994-295acb0ee436",
   "metadata": {},
   "outputs": [
    {
     "name": "stdout",
     "output_type": "stream",
     "text": [
      "2\n"
     ]
    }
   ],
   "source": [
    "my_tuple = (1,2,3,4,5)\n",
    "print(my_tuple[1])"
   ]
  },
  {
   "cell_type": "code",
   "execution_count": 130,
   "id": "4a6776a5-4591-4122-9dfa-7c3ab0d4550e",
   "metadata": {},
   "outputs": [
    {
     "name": "stdout",
     "output_type": "stream",
     "text": [
      "True\n"
     ]
    }
   ],
   "source": [
    "print(5 in my_tuple)"
   ]
  },
  {
   "cell_type": "code",
   "execution_count": 132,
   "id": "dd51600b-5b76-4f78-ab41-1bdf30b25c4a",
   "metadata": {},
   "outputs": [
    {
     "name": "stdout",
     "output_type": "stream",
     "text": [
      "dict_items([('basket', [1, 2, 3]), ('groot', 'hello'), ('age', 20)])\n"
     ]
    }
   ],
   "source": [
    "user = {\n",
    "        'basket' : [1,2,3],\n",
    "        'groot' : 'hello',\n",
    "        'age' : 20\n",
    "}\n",
    "\n",
    "print(user.items())"
   ]
  },
  {
   "cell_type": "code",
   "execution_count": 134,
   "id": "f46db5c2-4b56-4e87-8740-7be0504e11e8",
   "metadata": {},
   "outputs": [
    {
     "name": "stdout",
     "output_type": "stream",
     "text": [
      "[1, 2, 3]\n"
     ]
    }
   ],
   "source": [
    "user = {\n",
    "        (1,2) : [1,2,3],\n",
    "        'groot' : 'hello',\n",
    "        'age' : 20\n",
    "}\n",
    "\n",
    "print(user[(1,2)])"
   ]
  },
  {
   "cell_type": "code",
   "execution_count": 136,
   "id": "b7ecbfb2-8dbb-4c07-b0c7-6362ec0b0065",
   "metadata": {},
   "outputs": [
    {
     "name": "stdout",
     "output_type": "stream",
     "text": [
      "(2,)\n"
     ]
    }
   ],
   "source": [
    "my_tuple = (1,2,3,4,5)\n",
    "new_tuple = my_tuple[1:2]\n",
    "print(new_tuple)"
   ]
  },
  {
   "cell_type": "code",
   "execution_count": 138,
   "id": "2a2ef198-b763-4fd7-9d72-ab5720cfaecb",
   "metadata": {},
   "outputs": [
    {
     "name": "stdout",
     "output_type": "stream",
     "text": [
      "(2, 3, 4)\n"
     ]
    }
   ],
   "source": [
    "my_tuple = (1,2,3,4,5)\n",
    "new_tuple = my_tuple[1:4]\n",
    "print(new_tuple)"
   ]
  },
  {
   "cell_type": "code",
   "execution_count": 142,
   "id": "c0496042-e10c-4a84-8ce9-da6ce7aa0509",
   "metadata": {},
   "outputs": [
    {
     "name": "stdout",
     "output_type": "stream",
     "text": [
      "2\n"
     ]
    }
   ],
   "source": [
    "my_tuple = (1,2,3,4,5,5)\n",
    "print(my_tuple.count(5))"
   ]
  },
  {
   "cell_type": "code",
   "execution_count": 144,
   "id": "c91fbf09-5166-441d-b865-fa10036709ef",
   "metadata": {},
   "outputs": [
    {
     "name": "stdout",
     "output_type": "stream",
     "text": [
      "4\n"
     ]
    }
   ],
   "source": [
    "my_tuple = (1,2,3,4,5,5)\n",
    "print(my_tuple.index(5))"
   ]
  },
  {
   "cell_type": "code",
   "execution_count": 146,
   "id": "e4f6f44e-c905-440f-a6f4-5cd777a8882f",
   "metadata": {},
   "outputs": [
    {
     "name": "stdout",
     "output_type": "stream",
     "text": [
      "6\n"
     ]
    }
   ],
   "source": [
    "print(len(my_tuple))"
   ]
  },
  {
   "cell_type": "markdown",
   "id": "9ebf1cba-3d6f-4182-ac65-40d85e154043",
   "metadata": {},
   "source": [
    "# Sets"
   ]
  },
  {
   "cell_type": "code",
   "execution_count": 149,
   "id": "f176c0a4-aba7-45f3-acc2-c1bea34c0758",
   "metadata": {},
   "outputs": [
    {
     "name": "stdout",
     "output_type": "stream",
     "text": [
      "{1, 2, 3, 4, 5}\n"
     ]
    }
   ],
   "source": [
    "my_set = {1,2,3,4,5}\n",
    "print(my_set)"
   ]
  },
  {
   "cell_type": "code",
   "execution_count": 151,
   "id": "7fef0948-72a3-4f8e-b4ed-57c73c60d34e",
   "metadata": {},
   "outputs": [
    {
     "name": "stdout",
     "output_type": "stream",
     "text": [
      "{1, 2, 3, 4, 5}\n"
     ]
    }
   ],
   "source": [
    "my_set = {1,2,3,4,5,5}\n",
    "print(my_set)"
   ]
  },
  {
   "cell_type": "code",
   "execution_count": 153,
   "id": "5b2e51af-bdee-4e41-a6dd-8180eb3eabba",
   "metadata": {},
   "outputs": [
    {
     "name": "stdout",
     "output_type": "stream",
     "text": [
      "{1, 2, 3, 4, 5, 100}\n"
     ]
    }
   ],
   "source": [
    "my_set = {1,2,3,4,5,5}\n",
    "my_set.add(100)\n",
    "my_set.add(2)\n",
    "print(my_set)"
   ]
  },
  {
   "cell_type": "code",
   "execution_count": 161,
   "id": "2a415889-4fd6-4351-9e9f-d3d70c53271e",
   "metadata": {},
   "outputs": [
    {
     "name": "stdout",
     "output_type": "stream",
     "text": [
      "{1, 2, 3, 4, 5}\n"
     ]
    }
   ],
   "source": [
    "my_list = [1,2,3,4,5,5]\n",
    "\n",
    "print(set(my_list))"
   ]
  },
  {
   "cell_type": "code",
   "execution_count": 165,
   "id": "6837ae76-b482-4ca4-b6fc-ba786cf9a87e",
   "metadata": {},
   "outputs": [
    {
     "ename": "TypeError",
     "evalue": "'set' object is not subscriptable",
     "output_type": "error",
     "traceback": [
      "\u001b[1;31m---------------------------------------------------------------------------\u001b[0m",
      "\u001b[1;31mTypeError\u001b[0m                                 Traceback (most recent call last)",
      "Cell \u001b[1;32mIn[165], line 2\u001b[0m\n\u001b[0;32m      1\u001b[0m my_set \u001b[38;5;241m=\u001b[39m {\u001b[38;5;241m1\u001b[39m,\u001b[38;5;241m2\u001b[39m,\u001b[38;5;241m3\u001b[39m,\u001b[38;5;241m4\u001b[39m,\u001b[38;5;241m5\u001b[39m,\u001b[38;5;241m5\u001b[39m}\n\u001b[1;32m----> 2\u001b[0m \u001b[38;5;28mprint\u001b[39m(my_set[\u001b[38;5;241m0\u001b[39m])\n",
      "\u001b[1;31mTypeError\u001b[0m: 'set' object is not subscriptable"
     ]
    }
   ],
   "source": [
    "my_set = {1,2,3,4,5,5}\n",
    "print(my_set[0])"
   ]
  },
  {
   "cell_type": "code",
   "execution_count": 167,
   "id": "6935fcc6-94a2-4855-95cb-ebdd16f2841e",
   "metadata": {},
   "outputs": [
    {
     "name": "stdout",
     "output_type": "stream",
     "text": [
      "True\n"
     ]
    }
   ],
   "source": [
    "my_set = {1,2,3,4,5,5}\n",
    "print(1 in my_set)"
   ]
  },
  {
   "cell_type": "code",
   "execution_count": 169,
   "id": "0f0104f0-71ee-4735-9880-32d2f5e0033a",
   "metadata": {},
   "outputs": [
    {
     "name": "stdout",
     "output_type": "stream",
     "text": [
      "5\n"
     ]
    }
   ],
   "source": [
    "my_set = {1,2,3,4,5,5}\n",
    "print(len(my_set))"
   ]
  },
  {
   "cell_type": "code",
   "execution_count": 171,
   "id": "90dffb02-0f46-4473-9e8e-aa090523013f",
   "metadata": {},
   "outputs": [
    {
     "name": "stdout",
     "output_type": "stream",
     "text": [
      "[1, 2, 3, 4, 5]\n"
     ]
    }
   ],
   "source": [
    "my_set = {1,2,3,4,5,5}\n",
    "print(list(my_set))"
   ]
  },
  {
   "cell_type": "code",
   "execution_count": 173,
   "id": "1c74c734-640b-44a8-9cad-04455fe44446",
   "metadata": {},
   "outputs": [
    {
     "name": "stdout",
     "output_type": "stream",
     "text": [
      "{1, 2, 3, 4, 5}\n",
      "set()\n"
     ]
    }
   ],
   "source": [
    "my_set = {1,2,3,4,5,5}\n",
    "new_set = my_set.copy()\n",
    "my_set.clear()\n",
    "print(new_set)\n",
    "print(my_set)"
   ]
  },
  {
   "cell_type": "markdown",
   "id": "7db00f91-0d7a-4b8a-920b-00522be6e06b",
   "metadata": {},
   "source": [
    "# Sets function"
   ]
  },
  {
   "cell_type": "code",
   "execution_count": 200,
   "id": "a5125bb7-ccda-4d29-834b-42ca0bbbf0cd",
   "metadata": {},
   "outputs": [],
   "source": [
    "my_set = {1,2,3,4,5}\n",
    "your_set = {4,5,6,7,8,9,10}"
   ]
  },
  {
   "cell_type": "code",
   "execution_count": 186,
   "id": "df01fc20-5c22-4915-8ced-dbabcfd5480c",
   "metadata": {},
   "outputs": [],
   "source": [
    "#difference()"
   ]
  },
  {
   "cell_type": "code",
   "execution_count": 202,
   "id": "1dde834a-b268-48b7-bba9-af54639fba8f",
   "metadata": {},
   "outputs": [
    {
     "name": "stdout",
     "output_type": "stream",
     "text": [
      "{1, 2, 3}\n"
     ]
    }
   ],
   "source": [
    "print(my_set.difference(your_set))"
   ]
  },
  {
   "cell_type": "code",
   "execution_count": 192,
   "id": "07d98a60-c985-4f3e-92fc-72b5b83a5e1c",
   "metadata": {},
   "outputs": [
    {
     "name": "stdout",
     "output_type": "stream",
     "text": [
      "None\n",
      "{1, 2, 3, 4}\n"
     ]
    }
   ],
   "source": [
    " #discard\n",
    "print(my_set.discard(5))\n",
    "print(my_set)"
   ]
  },
  {
   "cell_type": "code",
   "execution_count": 196,
   "id": "3b2fb562-af1f-40fd-9bb5-60606f2782c6",
   "metadata": {},
   "outputs": [
    {
     "name": "stdout",
     "output_type": "stream",
     "text": [
      "None\n",
      "{1, 2, 3}\n"
     ]
    }
   ],
   "source": [
    "print(my_set.difference_update(your_set))\n",
    "print(my_set)"
   ]
  },
  {
   "cell_type": "code",
   "execution_count": 204,
   "id": "1b099702-0876-4b7e-a3e3-ab3b12d22cf7",
   "metadata": {},
   "outputs": [
    {
     "name": "stdout",
     "output_type": "stream",
     "text": [
      "{4, 5}\n"
     ]
    }
   ],
   "source": [
    "print(my_set.intersection(your_set))"
   ]
  },
  {
   "cell_type": "code",
   "execution_count": 206,
   "id": "a552aa76-d347-4073-8a13-1b8a6eb8bb09",
   "metadata": {},
   "outputs": [
    {
     "name": "stdout",
     "output_type": "stream",
     "text": [
      "False\n"
     ]
    }
   ],
   "source": [
    "print(my_set.isdisjoint(your_set))"
   ]
  },
  {
   "cell_type": "code",
   "execution_count": 208,
   "id": "fa71a505-2cb6-4292-85e3-c0d3b9694364",
   "metadata": {},
   "outputs": [
    {
     "name": "stdout",
     "output_type": "stream",
     "text": [
      "{1, 2, 3, 4, 5, 6, 7, 8, 9, 10}\n"
     ]
    }
   ],
   "source": [
    "print(my_set.union(your_set))"
   ]
  },
  {
   "cell_type": "code",
   "execution_count": 210,
   "id": "5e4cf34d-197e-407d-a2c3-d15c97037371",
   "metadata": {},
   "outputs": [
    {
     "name": "stdout",
     "output_type": "stream",
     "text": [
      "{1, 2, 3, 4, 5, 6, 7, 8, 9, 10}\n"
     ]
    }
   ],
   "source": [
    "print(my_set | your_set)"
   ]
  },
  {
   "cell_type": "code",
   "execution_count": 212,
   "id": "a5acaf07-e5a5-4e7d-8704-077dced68f85",
   "metadata": {},
   "outputs": [
    {
     "name": "stdout",
     "output_type": "stream",
     "text": [
      "{4, 5}\n"
     ]
    }
   ],
   "source": [
    "print(my_set& your_set)"
   ]
  },
  {
   "cell_type": "code",
   "execution_count": 214,
   "id": "29df1cc1-6f59-4692-91e0-e6bb982183d5",
   "metadata": {},
   "outputs": [
    {
     "name": "stdout",
     "output_type": "stream",
     "text": [
      "True\n"
     ]
    }
   ],
   "source": [
    "my_set = {4,5}\n",
    "your_set = {4,5,6,7,8,9,10}\n",
    "print(my_set.issubset(your_set))"
   ]
  },
  {
   "cell_type": "code",
   "execution_count": 216,
   "id": "2d9cde31-e0e5-4c80-b2cf-339971ba9c3a",
   "metadata": {},
   "outputs": [
    {
     "name": "stdout",
     "output_type": "stream",
     "text": [
      "False\n"
     ]
    }
   ],
   "source": [
    "print(my_set.issuperset(your_set))"
   ]
  },
  {
   "cell_type": "code",
   "execution_count": 218,
   "id": "39e9a720-101c-48d0-a210-ef6e72bf1726",
   "metadata": {},
   "outputs": [
    {
     "name": "stdout",
     "output_type": "stream",
     "text": [
      "True\n"
     ]
    }
   ],
   "source": [
    "print(your_set.issuperset(my_set))"
   ]
  },
  {
   "cell_type": "markdown",
   "id": "c0868918-3c57-447a-942a-b58070276f49",
   "metadata": {},
   "source": [
    "# Exercise"
   ]
  },
  {
   "cell_type": "code",
   "execution_count": 3,
   "id": "c09fd4f2-65ef-49e7-9c92-dcc8dc80e193",
   "metadata": {},
   "outputs": [],
   "source": [
    "#Scroll to bottom to see solution\n",
    "# You are working for the school Principal. We have a database of school students:\n",
    "school = {'Bobby','Tammy','Jammy','Sally','Danny'}\n",
    "\n",
    "#during class, the teachers take attendance and compile it into a list. \n",
    "attendance_list = ['Jammy', 'Bobby', 'Danny', 'Sally']\n",
    "\n",
    "#using what you learned about sets, create a piece of code that the school principal can use to immediately find out who missed class so they can call the parents. (Imagine if the list had 1000s of students. The principal can use the lists generated by the teachers + the school database to use python and make his/her job easier): Find the students that miss class!\n"
   ]
  },
  {
   "cell_type": "code",
   "execution_count": 9,
   "id": "46c564c5-ee6f-49b2-81be-f2e0890547c5",
   "metadata": {},
   "outputs": [
    {
     "name": "stdout",
     "output_type": "stream",
     "text": [
      "None\n",
      "{'Tammy'}\n"
     ]
    }
   ],
   "source": [
    "print(school.difference_update(attendance_list))\n",
    "print(school)\n"
   ]
  },
  {
   "cell_type": "code",
   "execution_count": 11,
   "id": "5ea3a510-7904-48a5-bca4-4e32747e132e",
   "metadata": {},
   "outputs": [
    {
     "name": "stdout",
     "output_type": "stream",
     "text": [
      "{'Tammy'}\n"
     ]
    }
   ],
   "source": [
    "#Solution: Notice how we don't have to convert the attendance_list to a set...it does it for you.\n",
    "print(school.difference(attendance_list))\n"
   ]
  },
  {
   "cell_type": "code",
   "execution_count": null,
   "id": "86f5794b-4a42-40a3-a059-9e1331c36c50",
   "metadata": {},
   "outputs": [],
   "source": []
  }
 ],
 "metadata": {
  "kernelspec": {
   "display_name": "Python [conda env:base] *",
   "language": "python",
   "name": "conda-base-py"
  },
  "language_info": {
   "codemirror_mode": {
    "name": "ipython",
    "version": 3
   },
   "file_extension": ".py",
   "mimetype": "text/x-python",
   "name": "python",
   "nbconvert_exporter": "python",
   "pygments_lexer": "ipython3",
   "version": "3.12.7"
  }
 },
 "nbformat": 4,
 "nbformat_minor": 5
}

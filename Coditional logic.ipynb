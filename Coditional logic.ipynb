{
 "cells": [
  {
   "cell_type": "code",
   "execution_count": null,
   "id": "e0394d56-538d-4a7d-951d-06e92d1f2e4c",
   "metadata": {},
   "outputs": [],
   "source": [
    "is_old = True\n",
    "is_licenced = True\n",
    "\n",
    "if is_old:\n",
    "    print('you are old enough to drive!')\n",
    "print('checcheck')"
   ]
  },
  {
   "cell_type": "code",
   "execution_count": 4,
   "id": "3854483b-bd59-4b5a-a3a1-9863d035fea9",
   "metadata": {},
   "outputs": [
    {
     "name": "stdout",
     "output_type": "stream",
     "text": [
      "checcheck\n"
     ]
    }
   ],
   "source": [
    "is_old = False\n",
    "is_licenced = True\n",
    "\n",
    "if is_old:\n",
    "    print('you are old enough to drive!')\n",
    "print('checcheck')"
   ]
  },
  {
   "cell_type": "code",
   "execution_count": 8,
   "id": "1a083823-4bd5-40c2-a3e1-31c615c921bd",
   "metadata": {},
   "outputs": [
    {
     "name": "stdout",
     "output_type": "stream",
     "text": [
      "checcheck\n"
     ]
    }
   ],
   "source": [
    "is_old = False\n",
    "is_licenced = True\n",
    "\n",
    "if is_old:\n",
    "    print('you are old enough to drive!')\n",
    "else:\n",
    "    print('checcheck')"
   ]
  },
  {
   "cell_type": "code",
   "execution_count": 10,
   "id": "96030c88-b7d5-4a42-9c5f-f7b5435d5e01",
   "metadata": {},
   "outputs": [
    {
     "name": "stdout",
     "output_type": "stream",
     "text": [
      "you are old enough to drive!\n"
     ]
    }
   ],
   "source": [
    "is_old = True\n",
    "is_licenced = True\n",
    "\n",
    "if is_old:\n",
    "    print('you are old enough to drive!')\n",
    "else:\n",
    "    print('checcheck')"
   ]
  },
  {
   "cell_type": "code",
   "execution_count": 12,
   "id": "14799d4f-a79b-4401-8863-2dab846b2986",
   "metadata": {},
   "outputs": [
    {
     "name": "stdout",
     "output_type": "stream",
     "text": [
      "you are old enough to drive!\n",
      "okoko\n"
     ]
    }
   ],
   "source": [
    "is_old = True\n",
    "is_licenced = True\n",
    "\n",
    "if is_old:\n",
    "    print('you are old enough to drive!')\n",
    "else:\n",
    "    print('you are not of age')\n",
    "\n",
    "print('okoko')"
   ]
  },
  {
   "cell_type": "code",
   "execution_count": 16,
   "id": "97620048-62a6-47e7-9165-5817ddd16db2",
   "metadata": {},
   "outputs": [
    {
     "name": "stdout",
     "output_type": "stream",
     "text": [
      "you are old enough to drive!\n",
      "okoko\n"
     ]
    }
   ],
   "source": [
    "is_old = True\n",
    "is_licenced = True\n",
    "\n",
    "if is_old:\n",
    "    print('you are old enough to drive!')\n",
    "elif is_licenced:\n",
    "    print('you can drive now!')\n",
    "else:\n",
    "    print('you are not of age')\n",
    "\n",
    "print('okoko')"
   ]
  },
  {
   "cell_type": "code",
   "execution_count": 18,
   "id": "26168671-b100-446e-a9f6-4ee2c5e1af12",
   "metadata": {},
   "outputs": [
    {
     "name": "stdout",
     "output_type": "stream",
     "text": [
      "you can drive now!\n",
      "okoko\n"
     ]
    }
   ],
   "source": [
    "is_old = False\n",
    "is_licenced = True\n",
    "\n",
    "if is_old:\n",
    "    print('you are old enough to drive!')\n",
    "elif is_licenced:\n",
    "    print('you can drive now!')\n",
    "else:\n",
    "    print('you are not of age')\n",
    "\n",
    "print('okoko')"
   ]
  },
  {
   "cell_type": "code",
   "execution_count": 20,
   "id": "875f7d1e-da5b-4d81-aca7-e0af570d8118",
   "metadata": {},
   "outputs": [
    {
     "name": "stdout",
     "output_type": "stream",
     "text": [
      "you are not of age\n",
      "okoko\n"
     ]
    }
   ],
   "source": [
    "is_old = False\n",
    "is_licenced = False\n",
    "\n",
    "if is_old:\n",
    "    print('you are old enough to drive!')\n",
    "elif is_licenced:\n",
    "    print('you can drive now!')\n",
    "else:\n",
    "    print('you are not of age')\n",
    "\n",
    "print('okoko')"
   ]
  },
  {
   "cell_type": "code",
   "execution_count": 22,
   "id": "8537dd1b-11d2-496c-8253-2376c87db20f",
   "metadata": {},
   "outputs": [
    {
     "name": "stdout",
     "output_type": "stream",
     "text": [
      "you are not of age\n",
      "okoko\n"
     ]
    }
   ],
   "source": [
    " is_old = False\n",
    "is_licenced = False\n",
    "\n",
    "if is_old and is_licenced:\n",
    "    print('you are old enough to drive!')\n",
    "else:\n",
    "    print('you are not of age')\n",
    "\n",
    "print('okoko')"
   ]
  },
  {
   "cell_type": "markdown",
   "id": "8be10a42-d97a-4646-a22a-c4bcc7d35495",
   "metadata": {},
   "source": [
    "# if with And "
   ]
  },
  {
   "cell_type": "code",
   "execution_count": 24,
   "id": "cd85b8d6-429c-423b-84d6-c3a3258dd9cf",
   "metadata": {},
   "outputs": [
    {
     "name": "stdout",
     "output_type": "stream",
     "text": [
      "you are not of age\n",
      "okoko\n"
     ]
    }
   ],
   "source": [
    " is_old = True\n",
    "is_licenced = False\n",
    "\n",
    "if is_old and is_licenced:\n",
    "    print('you are old enough to drive!')\n",
    "else:\n",
    "    print('you are not of age')\n",
    "\n",
    "print('okoko')"
   ]
  },
  {
   "cell_type": "code",
   "execution_count": 26,
   "id": "98ed9f28-a9bd-4be1-9d4c-19c28d23c49a",
   "metadata": {},
   "outputs": [
    {
     "name": "stdout",
     "output_type": "stream",
     "text": [
      "you are not of age\n",
      "okoko\n"
     ]
    }
   ],
   "source": [
    " is_old = False\n",
    "is_licenced = True\n",
    "\n",
    "if is_old and is_licenced:\n",
    "    print('you are old enough to drive!')\n",
    "else:\n",
    "    print('you are not of age')\n",
    "\n",
    "print('okoko')"
   ]
  },
  {
   "cell_type": "code",
   "execution_count": 30,
   "id": "1da39f64-d140-4dfc-b105-6d32ef05eb5f",
   "metadata": {},
   "outputs": [
    {
     "name": "stdout",
     "output_type": "stream",
     "text": [
      "you are old enough to drive! , and you have a licence!\n",
      "okoko\n"
     ]
    }
   ],
   "source": [
    " is_old = True\n",
    "is_licenced = True\n",
    "\n",
    "if is_old and is_licenced:\n",
    "    print('you are old enough to drive! , and you have a licence!')\n",
    "else:\n",
    "    print('you are not of age')\n",
    "\n",
    "print('okoko')"
   ]
  },
  {
   "cell_type": "markdown",
   "id": "63eea138-8d7c-4097-8ca3-6ac8af5fa0f4",
   "metadata": {},
   "source": [
    "# truthy and Falsey"
   ]
  },
  {
   "cell_type": "code",
   "execution_count": 36,
   "id": "b7703185-1bf3-4555-a406-929f011f3168",
   "metadata": {},
   "outputs": [
    {
     "name": "stdout",
     "output_type": "stream",
     "text": [
      "you are old enough to drive! , and you have a licence!\n"
     ]
    }
   ],
   "source": [
    "# is_old = bool('hello')\n",
    "# is_licenced = bool(5)\n",
    "\n",
    "# print(bool('hello')\n",
    "# print(bool(5)\n",
    "is_old = 'hello'\n",
    "is_licenced = 5\n",
    "\n",
    "if is_old and is_licenced:\n",
    "    print('you are old enough to drive! , and you have a licence!')\n",
    "else:\n",
    "    print('you are not of age')\n",
    "    print('okoko')"
   ]
  },
  {
   "cell_type": "code",
   "execution_count": 40,
   "id": "2513cda3-ef13-4ff9-bbaf-1497e4dba0c5",
   "metadata": {},
   "outputs": [
    {
     "name": "stdout",
     "output_type": "stream",
     "text": [
      "True\n",
      "True\n",
      "you are old enough to drive! , and you have a licence!\n"
     ]
    }
   ],
   "source": [
    "is_old = bool('hello')\n",
    "is_licenced = bool(5)\n",
    "\n",
    "print(bool('hello'))\n",
    "print(bool(5))\n",
    "\n",
    "if is_old and is_licenced:\n",
    "    print('you are old enough to drive! , and you have a licence!')\n",
    "else:\n",
    "    print('you are not of age')\n",
    "    print('okoko')"
   ]
  },
  {
   "cell_type": "code",
   "execution_count": 42,
   "id": "7751bbfe-5530-423a-b43d-7a2c194c1174",
   "metadata": {},
   "outputs": [
    {
     "name": "stdout",
     "output_type": "stream",
     "text": [
      "False\n",
      "False\n",
      "you are old enough to drive! , and you have a licence!\n"
     ]
    }
   ],
   "source": [
    "is_old = bool('hello')\n",
    "is_licenced = bool(5)\n",
    "\n",
    "print(bool(''))\n",
    "print(bool(0))\n",
    "\n",
    "if is_old and is_licenced:\n",
    "    print('you are old enough to drive! , and you have a licence!')\n",
    "else:\n",
    "    print('you are not of age')\n",
    "    print('okoko')"
   ]
  },
  {
   "cell_type": "code",
   "execution_count": 46,
   "id": "ba812ca0-201e-4ce7-a9b6-2d971dc38c06",
   "metadata": {},
   "outputs": [
    {
     "name": "stdout",
     "output_type": "stream",
     "text": [
      "you can login\n"
     ]
    }
   ],
   "source": [
    "username = 'johnny'\n",
    "password =  '123'\n",
    "\n",
    "if password and username:\n",
    "    print('you can login')\n",
    "else:\n",
    "    print('Create account')\n",
    "    print('okoko')"
   ]
  },
  {
   "cell_type": "markdown",
   "id": "cdc82c6d-4738-498b-ad33-6158309236a0",
   "metadata": {},
   "source": [
    " # Ternary operator"
   ]
  },
  {
   "cell_type": "code",
   "execution_count": 49,
   "id": "7a7eefaa-7df5-490b-ae7f-3d2c878a0808",
   "metadata": {},
   "outputs": [
    {
     "name": "stdout",
     "output_type": "stream",
     "text": [
      "not allowed to message\n"
     ]
    }
   ],
   "source": [
    "is_friend = False\n",
    "can_message = \"message allowed \" if is_friend else \"not allowed to message\"\n",
    "print(can_message)"
   ]
  },
  {
   "cell_type": "code",
   "execution_count": 51,
   "id": "b6dc228f-0d96-4a77-af48-bbcd13a4dd84",
   "metadata": {},
   "outputs": [
    {
     "name": "stdout",
     "output_type": "stream",
     "text": [
      "message allowed \n"
     ]
    }
   ],
   "source": [
    "is_friend = True\n",
    "can_message = \"message allowed \" if is_friend else \"not allowed to message\"\n",
    "print(can_message)"
   ]
  },
  {
   "cell_type": "markdown",
   "id": "e0bae364-a936-4436-a733-0673ed5e8d8e",
   "metadata": {},
   "source": [
    "# Short Circuiting"
   ]
  },
  {
   "cell_type": "code",
   "execution_count": 54,
   "id": "1683c9d1-81a9-4f84-b37b-a5e502e764b8",
   "metadata": {},
   "outputs": [],
   "source": [
    "#or \n"
   ]
  },
  {
   "cell_type": "code",
   "execution_count": 56,
   "id": "fb26b0e8-7c5f-4ed5-bdf6-5d8820053eb1",
   "metadata": {},
   "outputs": [
    {
     "name": "stdout",
     "output_type": "stream",
     "text": [
      "best friends forever\n"
     ]
    }
   ],
   "source": [
    "is_Friend = True\n",
    "is_User = True\n",
    "\n",
    "if is_Friend or is_User:\n",
    "    print('best friends forever')"
   ]
  },
  {
   "cell_type": "code",
   "execution_count": 58,
   "id": "ec5df5a3-eb8b-43c1-b9bb-fd92b1803a05",
   "metadata": {},
   "outputs": [
    {
     "name": "stdout",
     "output_type": "stream",
     "text": [
      "best friends forever\n"
     ]
    }
   ],
   "source": [
    "is_Friend = False\n",
    "is_User = True\n",
    "\n",
    "if is_Friend or is_User:\n",
    "    print('best friends forever')"
   ]
  },
  {
   "cell_type": "markdown",
   "id": "cd4d2d2a-69c4-4434-af54-34d5e1c0bb4c",
   "metadata": {},
   "source": [
    "# Logical operator"
   ]
  },
  {
   "cell_type": "code",
   "execution_count": 61,
   "id": "fb174583-873d-4e98-a876-ab8f1f38e293",
   "metadata": {},
   "outputs": [
    {
     "name": "stdout",
     "output_type": "stream",
     "text": [
      "True\n"
     ]
    }
   ],
   "source": [
    "print(4<5)\n"
   ]
  },
  {
   "cell_type": "code",
   "execution_count": 63,
   "id": "f783a9da-9261-47a2-bc8c-2fb867cca494",
   "metadata": {},
   "outputs": [
    {
     "ename": "SyntaxError",
     "evalue": "expression cannot contain assignment, perhaps you meant \"==\"? (3821764528.py, line 1)",
     "output_type": "error",
     "traceback": [
      "\u001b[1;36m  Cell \u001b[1;32mIn[63], line 1\u001b[1;36m\u001b[0m\n\u001b[1;33m    print(4 = 5)\u001b[0m\n\u001b[1;37m          ^\u001b[0m\n\u001b[1;31mSyntaxError\u001b[0m\u001b[1;31m:\u001b[0m expression cannot contain assignment, perhaps you meant \"==\"?\n"
     ]
    }
   ],
   "source": [
    "print(4 = 5)"
   ]
  },
  {
   "cell_type": "code",
   "execution_count": 65,
   "id": "de1c961b-5763-4395-8612-3af00860e810",
   "metadata": {},
   "outputs": [
    {
     "name": "stdout",
     "output_type": "stream",
     "text": [
      "False\n"
     ]
    }
   ],
   "source": [
    "print(4 == 5)"
   ]
  },
  {
   "cell_type": "code",
   "execution_count": 67,
   "id": "db498a16-d30c-461f-a8fc-28780d44f43d",
   "metadata": {},
   "outputs": [
    {
     "name": "stdout",
     "output_type": "stream",
     "text": [
      "True\n"
     ]
    }
   ],
   "source": [
    "print('hello' == 'hello')"
   ]
  },
  {
   "cell_type": "code",
   "execution_count": 69,
   "id": "364b39ef-8053-45d5-8ed0-7841c88c3ed5",
   "metadata": {},
   "outputs": [
    {
     "name": "stdout",
     "output_type": "stream",
     "text": [
      "False\n"
     ]
    }
   ],
   "source": [
    "print('a' > 'b')"
   ]
  },
  {
   "cell_type": "code",
   "execution_count": 71,
   "id": "e172ec2a-46e5-446b-834e-03256f352206",
   "metadata": {},
   "outputs": [
    {
     "name": "stdout",
     "output_type": "stream",
     "text": [
      "True\n"
     ]
    }
   ],
   "source": [
    "print('a' > 'A')"
   ]
  },
  {
   "cell_type": "code",
   "execution_count": 73,
   "id": "a8aed437-002e-4b61-acd9-15af564e14a7",
   "metadata": {},
   "outputs": [
    {
     "name": "stdout",
     "output_type": "stream",
     "text": [
      "True\n"
     ]
    }
   ],
   "source": [
    "print(1<2<3<4)"
   ]
  },
  {
   "cell_type": "code",
   "execution_count": 75,
   "id": "4b002570-c55d-4cec-95d8-82fa7c5fba9d",
   "metadata": {},
   "outputs": [
    {
     "name": "stdout",
     "output_type": "stream",
     "text": [
      "False\n"
     ]
    }
   ],
   "source": [
    "print(1<2>3<4)"
   ]
  },
  {
   "cell_type": "code",
   "execution_count": 77,
   "id": "bc74abe1-80d2-41d7-9464-68830c18dede",
   "metadata": {},
   "outputs": [
    {
     "name": "stdout",
     "output_type": "stream",
     "text": [
      "True\n"
     ]
    }
   ],
   "source": [
    "print(1>=0)"
   ]
  },
  {
   "cell_type": "code",
   "execution_count": 79,
   "id": "1e11baa2-c7ca-4f06-94df-531cbace0b49",
   "metadata": {},
   "outputs": [
    {
     "name": "stdout",
     "output_type": "stream",
     "text": [
      "False\n"
     ]
    }
   ],
   "source": [
    "print(1<=0)"
   ]
  },
  {
   "cell_type": "code",
   "execution_count": 81,
   "id": "2f51d5c2-c2f9-45d5-bc18-e9b2b5fb48a9",
   "metadata": {},
   "outputs": [
    {
     "name": "stdout",
     "output_type": "stream",
     "text": [
      "False\n"
     ]
    }
   ],
   "source": [
    "print(0 != 0)"
   ]
  },
  {
   "cell_type": "code",
   "execution_count": 83,
   "id": "adddb9c6-64b7-4d06-8a23-cecaa5dbec40",
   "metadata": {},
   "outputs": [
    {
     "name": "stdout",
     "output_type": "stream",
     "text": [
      "True\n"
     ]
    }
   ],
   "source": [
    "print(0 != 1)"
   ]
  },
  {
   "cell_type": "code",
   "execution_count": 85,
   "id": "8791b359-3b26-456e-9fb7-55ea46141d78",
   "metadata": {},
   "outputs": [],
   "source": [
    "#not\n"
   ]
  },
  {
   "cell_type": "code",
   "execution_count": 87,
   "id": "f4333564-224e-4209-8a11-a093c8047cf4",
   "metadata": {},
   "outputs": [
    {
     "name": "stdout",
     "output_type": "stream",
     "text": [
      "False\n"
     ]
    }
   ],
   "source": [
    "print(not(True))"
   ]
  },
  {
   "cell_type": "code",
   "execution_count": 89,
   "id": "ba1091b8-480e-4526-a1f1-bf13cd6fa380",
   "metadata": {},
   "outputs": [
    {
     "name": "stdout",
     "output_type": "stream",
     "text": [
      "True\n"
     ]
    }
   ],
   "source": [
    "print(not(False))"
   ]
  },
  {
   "cell_type": "code",
   "execution_count": 91,
   "id": "25780b9e-fcc2-40b6-aa46-b2e0d352fd02",
   "metadata": {},
   "outputs": [],
   "source": [
    "#exercise \n",
    "#wizard game"
   ]
  },
  {
   "cell_type": "code",
   "execution_count": 95,
   "id": "17af64b4-0610-4055-b151-eda66afac04c",
   "metadata": {},
   "outputs": [
    {
     "name": "stdout",
     "output_type": "stream",
     "text": [
      "you need magic powers\n"
     ]
    }
   ],
   "source": [
    "is_magician = False\n",
    "is_expert = True\n",
    "\n",
    "#check if magician And expert : \" you are a master magician \"\n",
    "if is_magician and is_expert:\n",
    "    print('you are a master magician')\n",
    "\n",
    "#check if magician but not expert: \" at least you're getting there \"\n",
    "elif  is_magician and not is_expert:\n",
    "    print('at least you\\'re getting there')\n",
    "\n",
    "#if you're not a magician : \"you need magic powers\"\n",
    "else:\n",
    "    print('you need magic powers')"
   ]
  },
  {
   "cell_type": "code",
   "execution_count": 97,
   "id": "7d5d0ed7-1cbb-4906-a971-75831af763e6",
   "metadata": {},
   "outputs": [
    {
     "name": "stdout",
     "output_type": "stream",
     "text": [
      "you need magic powers\n"
     ]
    }
   ],
   "source": [
    "is_magician = False\n",
    "is_expert = True\n",
    "\n",
    "#check if magician And expert : \" you are a master magician \"\n",
    "if is_magician and is_expert:\n",
    "    print('you are a master magician')\n",
    "\n",
    "#check if magician but not expert: \" at least you're getting there \"\n",
    "elif  is_magician and not is_expert:\n",
    "    print('at least you\\'re getting there')\n",
    "\n",
    "#if you're not a magician : \"you need magic powers\"\n",
    "elif not is_magician:\n",
    "    print('you need magic powers')"
   ]
  },
  {
   "cell_type": "code",
   "execution_count": 99,
   "id": "6686a36f-3122-49ee-815d-3a40e629c2a6",
   "metadata": {},
   "outputs": [
    {
     "name": "stdout",
     "output_type": "stream",
     "text": [
      "you are a master magician\n"
     ]
    }
   ],
   "source": [
    "is_magician = True\n",
    "is_expert = True\n",
    "\n",
    "#check if magician And expert : \" you are a master magician \"\n",
    "if is_magician and is_expert:\n",
    "    print('you are a master magician')\n",
    "\n",
    "#check if magician but not expert: \" at least you're getting there \"\n",
    "elif  is_magician and not is_expert:\n",
    "    print('at least you\\'re getting there')\n",
    "\n",
    "#if you're not a magician : \"you need magic powers\"\n",
    "elif not is_magician:\n",
    "    print('you need magic powers')"
   ]
  },
  {
   "cell_type": "code",
   "execution_count": 101,
   "id": "535aac6b-114e-45c9-bf92-87602431b3b7",
   "metadata": {},
   "outputs": [
    {
     "name": "stdout",
     "output_type": "stream",
     "text": [
      "at least you're getting there\n"
     ]
    }
   ],
   "source": [
    "is_magician = True\n",
    "is_expert = False\n",
    "\n",
    "#check if magician And expert : \" you are a master magician \"\n",
    "if is_magician and is_expert:\n",
    "    print('you are a master magician')\n",
    "\n",
    "#check if magician but not expert: \" at least you're getting there \"\n",
    "elif  is_magician and not is_expert:\n",
    "    print('at least you\\'re getting there')\n",
    "\n",
    "#if you're not a magician : \"you need magic powers\"\n",
    "elif not is_magician:\n",
    "    print('you need magic powers')"
   ]
  },
  {
   "cell_type": "markdown",
   "id": "4445d036-f110-464f-9877-47f8326fdf0a",
   "metadata": {},
   "source": [
    "# is vs =="
   ]
  },
  {
   "cell_type": "code",
   "execution_count": 2,
   "id": "9fad56e4-1031-48de-a9b7-62262479e8b0",
   "metadata": {},
   "outputs": [
    {
     "name": "stdout",
     "output_type": "stream",
     "text": [
      "True\n",
      "False\n",
      "False\n",
      "True\n",
      "True\n"
     ]
    }
   ],
   "source": [
    "print(True == 1)\n",
    "print('' == 1)\n",
    "print([] == 1)\n",
    "print(10 == 10.0)\n",
    "print([] == [])"
   ]
  },
  {
   "cell_type": "code",
   "execution_count": 4,
   "id": "71c961b4-4c68-4e81-b2ab-5df3a0d1fc0e",
   "metadata": {},
   "outputs": [
    {
     "name": "stdout",
     "output_type": "stream",
     "text": [
      "True\n",
      "False\n",
      "False\n",
      "True\n",
      "True\n"
     ]
    }
   ],
   "source": [
    "print(True == 1)\n",
    "print('1' == 1)\n",
    "print([] == 1)\n",
    "print(10 == 10.0)\n",
    "print([1,2,3] == [1,2,3])"
   ]
  },
  {
   "cell_type": "code",
   "execution_count": 6,
   "id": "dd0f4f33-4df0-4078-9f77-0cc192e28d84",
   "metadata": {},
   "outputs": [
    {
     "name": "stdout",
     "output_type": "stream",
     "text": [
      "False\n",
      "False\n",
      "False\n",
      "False\n",
      "False\n"
     ]
    },
    {
     "name": "stderr",
     "output_type": "stream",
     "text": [
      "<>:1: SyntaxWarning: \"is\" with 'int' literal. Did you mean \"==\"?\n",
      "<>:2: SyntaxWarning: \"is\" with 'str' literal. Did you mean \"==\"?\n",
      "<>:3: SyntaxWarning: \"is\" with 'int' literal. Did you mean \"==\"?\n",
      "<>:4: SyntaxWarning: \"is\" with 'int' literal. Did you mean \"==\"?\n",
      "<>:1: SyntaxWarning: \"is\" with 'int' literal. Did you mean \"==\"?\n",
      "<>:2: SyntaxWarning: \"is\" with 'str' literal. Did you mean \"==\"?\n",
      "<>:3: SyntaxWarning: \"is\" with 'int' literal. Did you mean \"==\"?\n",
      "<>:4: SyntaxWarning: \"is\" with 'int' literal. Did you mean \"==\"?\n",
      "C:\\Users\\aman9\\AppData\\Local\\Temp\\ipykernel_31184\\3217358265.py:1: SyntaxWarning: \"is\" with 'int' literal. Did you mean \"==\"?\n",
      "  print(True is 1)\n",
      "C:\\Users\\aman9\\AppData\\Local\\Temp\\ipykernel_31184\\3217358265.py:2: SyntaxWarning: \"is\" with 'str' literal. Did you mean \"==\"?\n",
      "  print('1' is 1)\n",
      "C:\\Users\\aman9\\AppData\\Local\\Temp\\ipykernel_31184\\3217358265.py:3: SyntaxWarning: \"is\" with 'int' literal. Did you mean \"==\"?\n",
      "  print([] is 1)\n",
      "C:\\Users\\aman9\\AppData\\Local\\Temp\\ipykernel_31184\\3217358265.py:4: SyntaxWarning: \"is\" with 'int' literal. Did you mean \"==\"?\n",
      "  print(10 is 10.0)\n"
     ]
    }
   ],
   "source": [
    "print(True is 1)\n",
    "print('1' is 1)\n",
    "print([] is 1)\n",
    "print(10 is 10.0)\n",
    "print([1,2,3] is [1,2,3])"
   ]
  },
  {
   "cell_type": "code",
   "execution_count": 8,
   "id": "be280436-2c5d-4426-9177-1206ccb7e321",
   "metadata": {},
   "outputs": [
    {
     "name": "stdout",
     "output_type": "stream",
     "text": [
      "True\n"
     ]
    }
   ],
   "source": [
    "print(True is True)"
   ]
  },
  {
   "cell_type": "code",
   "execution_count": 12,
   "id": "fe91df9c-1b0f-43b9-a9d9-880e7caf76f6",
   "metadata": {},
   "outputs": [
    {
     "name": "stdout",
     "output_type": "stream",
     "text": [
      "True\n",
      "True\n",
      "False\n"
     ]
    },
    {
     "name": "stderr",
     "output_type": "stream",
     "text": [
      "<>:2: SyntaxWarning: \"is\" with 'str' literal. Did you mean \"==\"?\n",
      "<>:2: SyntaxWarning: \"is\" with 'str' literal. Did you mean \"==\"?\n",
      "C:\\Users\\aman9\\AppData\\Local\\Temp\\ipykernel_31184\\83085639.py:2: SyntaxWarning: \"is\" with 'str' literal. Did you mean \"==\"?\n",
      "  print('1' is '1')\n"
     ]
    }
   ],
   "source": [
    "print(True is True)\n",
    "print('1' is '1')\n",
    "print([] is [])"
   ]
  },
  {
   "cell_type": "code",
   "execution_count": null,
   "id": "a16a7fdb-8937-4bcc-a659-24ae53f5fa49",
   "metadata": {},
   "outputs": [],
   "source": []
  }
 ],
 "metadata": {
  "kernelspec": {
   "display_name": "Python [conda env:base] *",
   "language": "python",
   "name": "conda-base-py"
  },
  "language_info": {
   "codemirror_mode": {
    "name": "ipython",
    "version": 3
   },
   "file_extension": ".py",
   "mimetype": "text/x-python",
   "name": "python",
   "nbconvert_exporter": "python",
   "pygments_lexer": "ipython3",
   "version": "3.12.7"
  }
 },
 "nbformat": 4,
 "nbformat_minor": 5
}
